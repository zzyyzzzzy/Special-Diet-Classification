{
 "cells": [
  {
   "cell_type": "markdown",
   "metadata": {},
   "source": [
    "###  1.1 Import DATA"
   ]
  },
  {
   "cell_type": "code",
   "execution_count": 80,
   "metadata": {},
   "outputs": [],
   "source": [
    "import pandas as pd\n",
    "import numpy as np\n",
    "import pandas as pd\n",
    "from sklearn.model_selection import train_test_split\n",
    "from sklearn.svm import SVC\n",
    "from sklearn import metrics\n",
    "import matplotlib.pyplot as plt\n",
    "from imblearn.under_sampling import RandomUnderSampler\n",
    "from sklearn.tree import DecisionTreeClassifier\n",
    "from numpy import mean\n",
    "from sklearn.ensemble import RandomForestClassifier \n",
    "from sklearn.model_selection import cross_val_score\n",
    "from sklearn.model_selection import RepeatedStratifiedKFold\n",
    "from imblearn.pipeline import Pipeline\n",
    "from sklearn.naive_bayes import GaussianNB\n",
    "from sklearn.linear_model import LogisticRegression\n",
    "from sklearn.metrics import balanced_accuracy_score\n",
    "from collections import Counter\n",
    "from sklearn.model_selection import cross_validate\n",
    "from sklearn.model_selection import GridSearchCV\n",
    "\n",
    "import matplotlib.pyplot as plt\n",
    "from sklearn.metrics import plot_det_curve\n",
    "from sklearn.metrics import plot_roc_curve\n",
    "from sklearn.preprocessing import StandardScaler\n",
    "\n",
    "df_recipes = pd.read_csv('../dataset/recipes.csv')\n",
    "df_recipe_with_ingredient = pd.read_csv('../dataset/recipe_with_ingredient.csv')\n",
    "food_df = pd.read_csv('../dataset/food.csv')\n",
    "ingred_spices_df = pd.read_csv('collect_spices_ingred_df.csv')"
   ]
  },
  {
   "cell_type": "markdown",
   "metadata": {},
   "source": [
    "### 1.2 Label Target "
   ]
  },
  {
   "cell_type": "code",
   "execution_count": 81,
   "metadata": {},
   "outputs": [
    {
     "name": "stderr",
     "output_type": "stream",
     "text": [
      "/anaconda3/lib/python3.7/site-packages/pandas/core/indexing.py:671: SettingWithCopyWarning: \n",
      "A value is trying to be set on a copy of a slice from a DataFrame\n",
      "\n",
      "See the caveats in the documentation: https://pandas.pydata.org/pandas-docs/stable/user_guide/indexing.html#returning-a-view-versus-a-copy\n",
      "  self._setitem_with_indexer(indexer, value)\n"
     ]
    },
    {
     "data": {
      "text/plain": [
       "(3365, 3803)"
      ]
     },
     "execution_count": 81,
     "metadata": {},
     "output_type": "execute_result"
    }
   ],
   "source": [
    "add_col = ['carbohydrate_p','protein_p','fat_p']\n",
    "map_to_col = ['carbohydrate','protein','fat']\n",
    "\n",
    "# Protein - 4 calories per gram\n",
    "# Fats - 9 calories per gram\n",
    "# Carbs - 4 calories per gram\n",
    "macronutrient_basics = [4,4,9]\n",
    "\n",
    "for i in range(3):\n",
    "    df_recipes[add_col[i]] = ((df_recipes[map_to_col[i]]*macronutrient_basics[i]/df_recipes['calories'])*100).round(1)\n",
    "\n",
    "\"\"\"\n",
    "Label Keto\n",
    "\"\"\"\n",
    "# 1 = Keto Diet \n",
    "# 0 = not Keto Diet \n",
    "df_recipes['label_keto'] = 0\n",
    "c = df_recipes['carbohydrate_p']\n",
    "p = df_recipes['protein_p']\n",
    "f = df_recipes['fat_p']\n",
    "label = df_recipes['label_keto']\n",
    "for i in range(df_recipes.shape[0]):\n",
    "    if  f.loc[i] >= 70 and c.loc[i] <= 10:\n",
    "        label.loc[i] = 1\n",
    "\n",
    "# select the features to keep to join another table \n",
    "df_recipes_keto = df_recipes[['recipe_id','label_keto']]\n",
    "# merge the selected features with df_recipe_with_ingredient\n",
    "df_recipe_with_ingredient.rename({'Unnamed: 0':'recipe_id'}, axis='columns', inplace = True)\n",
    "join_recipe_w_label = df_recipe_with_ingredient.set_index('recipe_id').join(df_recipes_keto.set_index('recipe_id'))\n",
    "join_recipe_w_label.shape"
   ]
  },
  {
   "cell_type": "markdown",
   "metadata": {},
   "source": [
    "### 1.3 Drop outliers (spices)"
   ]
  },
  {
   "cell_type": "code",
   "execution_count": 82,
   "metadata": {},
   "outputs": [
    {
     "data": {
      "text/plain": [
       "(3365, 3207)"
      ]
     },
     "execution_count": 82,
     "metadata": {},
     "output_type": "execute_result"
    }
   ],
   "source": [
    "# Drop the spices ingredients\n",
    "join_recipe_w_label = join_recipe_w_label.drop(labels = [str(x) for x in ingred_spices_df.food_id.values], axis = 1)\n",
    "features = [x for x in join_recipe_w_label.columns[0:-1]]\n",
    "join_recipe_w_label.shape"
   ]
  },
  {
   "cell_type": "code",
   "execution_count": 83,
   "metadata": {},
   "outputs": [
    {
     "name": "stdout",
     "output_type": "stream",
     "text": [
      "The size of dataframe after drop rows with no ingredient (3298, 3207)\n"
     ]
    }
   ],
   "source": [
    "# drop duplicates\n",
    "join_recipe_w_label = join_recipe_w_label[join_recipe_w_label.iloc[:, 0:join_recipe_w_label.shape[1] - 1].duplicated() == False]\n",
    "print(f'The size of dataframe after drop rows with no ingredient {join_recipe_w_label.shape}')"
   ]
  },
  {
   "cell_type": "markdown",
   "metadata": {},
   "source": [
    "#### Optional"
   ]
  },
  {
   "cell_type": "code",
   "execution_count": 84,
   "metadata": {},
   "outputs": [],
   "source": [
    "def undersampleNegative(df, label, coef=1):\n",
    "    positive_label_df = df[df[label] == 1]\n",
    "    negative_label_df = df[df[label] == 0]\n",
    "    negative_undersampled = negative_label_df.sample(n= round(coef * len(positive_label_df)))\n",
    "    return pd.concat([positive_label_df, negative_undersampled ], axis= 0)\n",
    "\n",
    "def tryFeaturePercent(df,params):\n",
    "    best_accracy, best_percent = 0, 0\n",
    "    for p in params:\n",
    "        temp_df = df.loc[:, df.sum(axis=0)/df.shape[0] >= p]\n",
    "        X, y = df.iloc[:, 1:df.shape[1] - 1], df.iloc[:, df.shape[1] - 1]\n",
    "        X_train, X_test, y_train, y_test = train_test_split(X, y, test_size=0.2, random_state=25)\n",
    "        rf = RandomForestClassifier() \n",
    "        rf = rf.fit(X_train, y_train)\n",
    "        cur_acc = metrics.accuracy_score(y_test, rf.predict(X_test))\n",
    "        if cur_acc >= best_accracy:\n",
    "            best_percent = p\n",
    "            best_accracy = cur_acc\n",
    "    return best_percent, best_accracy\n",
    "\n",
    "def tryDiffRandomState(params):\n",
    "    best_params = []\n",
    "    for p in params:\n",
    "        feature_select_df = undersampleNegative(join_recipe_w_label, 'label_keto', 1)\n",
    "        cur_best_percent, cur_best_acc  = tryFeaturePercent(feature_select_df, np.linspace(0.0001, 0.005, 30))\n",
    "        best_params.append(cur_best_percent)\n",
    "    return best_params\n",
    "\n",
    "def viewIngredient(df):\n",
    "    to_int_lst = []\n",
    "    for i in df.columns[1: df.shape[1] - 1]:\n",
    "        to_int_lst.append(int(i))\n",
    "    return food_df[food_df['food_id'].isin(to_int_lst)]"
   ]
  },
  {
   "cell_type": "code",
   "execution_count": 85,
   "metadata": {},
   "outputs": [
    {
     "name": "stdout",
     "output_type": "stream",
     "text": [
      "The pramas in each iteration to select features are [0.0043241379310344835, 0.0041551724137931035, 0.0034793103448275864, 0.004662068965517242, 0.004493103448275863, 0.0017896551724137933, 0.0031413793103448277, 0.0031413793103448277, 0.004662068965517242, 0.0043241379310344835]\n",
      "mean optimal_params: 0.003817241379310345 \n",
      "The size of dataframe after selection (3298, 221)\n"
     ]
    }
   ],
   "source": [
    "# find params to cut rare features\n",
    "# This cell takes about 3 min to run (deppeding on the size of iterable passed in)\n",
    "\n",
    "params = tryDiffRandomState(range(0,10))\n",
    "print(f'The pramas in each iteration to select features are {params}')\n",
    "temp = params\n",
    "optimal_params = np.mean(temp)\n",
    "optimal_join_recipe_w_label = join_recipe_w_label.loc[:, join_recipe_w_label.sum(axis=0)/join_recipe_w_label.shape[0] >= optimal_params]\n",
    "print(f'mean optimal_params: {optimal_params} \\nThe size of dataframe after selection {optimal_join_recipe_w_label.shape}')\n",
    "features = [x for x in optimal_join_recipe_w_label.columns[0:-1]]\n",
    "join_recipe_w_label = optimal_join_recipe_w_label"
   ]
  },
  {
   "cell_type": "code",
   "execution_count": 86,
   "metadata": {},
   "outputs": [
    {
     "name": "stdout",
     "output_type": "stream",
     "text": [
      "The size of dataframe after drop rows with no ingredient (2613, 221)\n"
     ]
    }
   ],
   "source": [
    "# drop duplicates\n",
    "join_recipe_w_label = join_recipe_w_label[join_recipe_w_label.iloc[:, 0:join_recipe_w_label.shape[1] - 1].duplicated() == False]\n",
    "print(f'The size of dataframe after drop rows with no ingredient {join_recipe_w_label.shape}')"
   ]
  },
  {
   "cell_type": "code",
   "execution_count": 74,
   "metadata": {
    "collapsed": true,
    "jupyter": {
     "outputs_hidden": true,
     "source_hidden": true
    }
   },
   "outputs": [
    {
     "data": {
      "text/html": [
       "<div>\n",
       "<style scoped>\n",
       "    .dataframe tbody tr th:only-of-type {\n",
       "        vertical-align: middle;\n",
       "    }\n",
       "\n",
       "    .dataframe tbody tr th {\n",
       "        vertical-align: top;\n",
       "    }\n",
       "\n",
       "    .dataframe thead th {\n",
       "        text-align: right;\n",
       "    }\n",
       "</style>\n",
       "<table border=\"1\" class=\"dataframe\">\n",
       "  <thead>\n",
       "    <tr style=\"text-align: right;\">\n",
       "      <th></th>\n",
       "      <th>count</th>\n",
       "      <th>food_name</th>\n",
       "    </tr>\n",
       "    <tr>\n",
       "      <th>food_id</th>\n",
       "      <th></th>\n",
       "      <th></th>\n",
       "    </tr>\n",
       "  </thead>\n",
       "  <tbody>\n",
       "    <tr>\n",
       "      <th>36442</th>\n",
       "      <td>839</td>\n",
       "      <td>Onions</td>\n",
       "    </tr>\n",
       "    <tr>\n",
       "      <th>33792</th>\n",
       "      <td>262</td>\n",
       "      <td>Egg (Whole)</td>\n",
       "    </tr>\n",
       "    <tr>\n",
       "      <th>36633</th>\n",
       "      <td>238</td>\n",
       "      <td>Red Tomatoes</td>\n",
       "    </tr>\n",
       "    <tr>\n",
       "      <th>36320</th>\n",
       "      <td>224</td>\n",
       "      <td>Carrots</td>\n",
       "    </tr>\n",
       "    <tr>\n",
       "      <th>3092</th>\n",
       "      <td>220</td>\n",
       "      <td>Egg</td>\n",
       "    </tr>\n",
       "    <tr>\n",
       "      <th>...</th>\n",
       "      <td>...</td>\n",
       "      <td>...</td>\n",
       "    </tr>\n",
       "    <tr>\n",
       "      <th>77671</th>\n",
       "      <td>11</td>\n",
       "      <td>Boneless Skinless Chicken Breast</td>\n",
       "    </tr>\n",
       "    <tr>\n",
       "      <th>36281</th>\n",
       "      <td>11</td>\n",
       "      <td>Green Snap Beans (Frozen)</td>\n",
       "    </tr>\n",
       "    <tr>\n",
       "      <th>27572</th>\n",
       "      <td>10</td>\n",
       "      <td>Old Fashioned Oats</td>\n",
       "    </tr>\n",
       "    <tr>\n",
       "      <th>35965</th>\n",
       "      <td>9</td>\n",
       "      <td>Raspberries</td>\n",
       "    </tr>\n",
       "    <tr>\n",
       "      <th>221262</th>\n",
       "      <td>9</td>\n",
       "      <td>Organic Virgin Coconut Oil</td>\n",
       "    </tr>\n",
       "  </tbody>\n",
       "</table>\n",
       "<p>244 rows × 2 columns</p>\n",
       "</div>"
      ],
      "text/plain": [
       "         count                         food_name\n",
       "food_id                                         \n",
       "36442      839                            Onions\n",
       "33792      262                       Egg (Whole)\n",
       "36633      238                      Red Tomatoes\n",
       "36320      224                           Carrots\n",
       "3092       220                               Egg\n",
       "...        ...                               ...\n",
       "77671       11  Boneless Skinless Chicken Breast\n",
       "36281       11         Green Snap Beans (Frozen)\n",
       "27572       10                Old Fashioned Oats\n",
       "35965        9                       Raspberries\n",
       "221262       9        Organic Virgin Coconut Oil\n",
       "\n",
       "[244 rows x 2 columns]"
      ]
     },
     "execution_count": 74,
     "metadata": {},
     "output_type": "execute_result"
    }
   ],
   "source": [
    "rank_ingred = recipe_with_ingred.sum(axis=0)\n",
    "ingred_count = pd.DataFrame(zip([int(x) for x in rank_ingred.keys()[0:]],rank_ingred.values[0:]),columns=['food_id','count'])\n",
    "\n",
    "ingred_count = ingred_count.sort_values(\"count\", ascending = False)\n",
    "ingred_count_w_name = ingred_count.set_index('food_id').join(food_df.set_index('food_id'))\n",
    "ingred_count_w_name\n",
    "# viewIngredient(join_recipe_w_label)"
   ]
  },
  {
   "cell_type": "markdown",
   "metadata": {},
   "source": [
    "### 1.4 Split dataset into train and test set"
   ]
  },
  {
   "cell_type": "code",
   "execution_count": 87,
   "metadata": {},
   "outputs": [],
   "source": [
    "\n",
    "# label 1 as postive sample and 0 as negative sample\n",
    "p_sample = join_recipe_w_label[join_recipe_w_label['label_keto'] == 1]\n",
    "n_sample = join_recipe_w_label[join_recipe_w_label.label_keto == 0]\n",
    "# randomly sample negative samples from the pool to have same data size as postive samples\n",
    "n_sample_rand = n_sample.sample(n = len(p_sample),random_state =0)\n",
    "X = pd.concat([p_sample, n_sample_rand])\n",
    "y =  X.label_keto\n",
    "X_ = X[features]\n",
    "x_train, x_test, y_train, y_test = train_test_split(X_,y, test_size=0.2, random_state=0)\n",
    "\n",
    "# print(f\"class counts in traning set: {Counter(X.label_keto)}\")"
   ]
  },
  {
   "cell_type": "markdown",
   "metadata": {},
   "source": [
    "# Model Building and Training\n",
    "<hr />"
   ]
  },
  {
   "cell_type": "code",
   "execution_count": 88,
   "metadata": {},
   "outputs": [],
   "source": [
    "def printAccruacy(model_name, actual_test, predictions_test, actual_train=None, predictions_train=None):\n",
    "    print(f'The accuracy of {model_name} is: {metrics.accuracy_score(actual_test, predictions_test)}')\n",
    "    if actual_train is not None and predictions_train is not None:\n",
    "        print(f'The accuracy of {model_name} on training set is: {metrics.accuracy_score(actual_train, predictions_train)}')\n",
    "    \n",
    "def printCVscore(model, x_train, y_train, cv=10):\n",
    "    score = np.mean(cross_validate(model, x_train, y_train, cv=cv)['test_score'])\n",
    "    print(f'The mean CV score using {cv}-fold coross validation is: {score}')\n",
    "    return score"
   ]
  },
  {
   "cell_type": "markdown",
   "metadata": {},
   "source": [
    "#### logistic regression "
   ]
  },
  {
   "cell_type": "code",
   "execution_count": 89,
   "metadata": {},
   "outputs": [
    {
     "name": "stdout",
     "output_type": "stream",
     "text": [
      "{'C': 0.4745263157894737}\n",
      "LR:\n",
      "               precision    recall  f1-score   support\n",
      "\n",
      "           0       0.87      0.87      0.87        23\n",
      "           1       0.83      0.83      0.83        18\n",
      "\n",
      "    accuracy                           0.85        41\n",
      "   macro avg       0.85      0.85      0.85        41\n",
      "weighted avg       0.85      0.85      0.85        41\n",
      "\n",
      "The accuracy of lg model is: 0.8536585365853658\n",
      "The accuracy of lg model on training set is: 0.9627329192546584\n",
      "The mean CV score using 10-fold coross validation is: 0.7823529411764706\n"
     ]
    }
   ],
   "source": [
    "C = np.linspace(0.001, 3, 20)\n",
    "param_grid = dict(C=C)\n",
    "cv = RepeatedStratifiedKFold(n_splits=10, n_repeats=3)\n",
    "lg_grid_search = GridSearchCV(LogisticRegression(),param_grid = param_grid, cv = cv, n_jobs=-1)\n",
    "lg_grid_search.fit(x_train, y_train)\n",
    "\n",
    "# View the best parameters from the random search\n",
    "print(lg_grid_search.best_params_)\n",
    "lg_best_params = lg_grid_search.best_params_\n",
    "\n",
    "# logistic regression \n",
    "lr = LogisticRegression(C = lg_best_params['C'], random_state=1)\n",
    "lr.fit(x_train,y_train)\n",
    "y_pred_lr = lr.predict(x_test)\n",
    "# accuracy = accuracy_score(y_test,y_pred)*100\n",
    "print('LR:\\n',metrics.classification_report(y_test,y_pred_lr))\n",
    "printAccruacy('lg model', y_test, y_pred_lr, y_train, lr.predict(x_train))\n",
    "score = printCVscore(lr, x_train, y_train)"
   ]
  },
  {
   "cell_type": "markdown",
   "metadata": {},
   "source": [
    "#### Random Forest"
   ]
  },
  {
   "cell_type": "code",
   "execution_count": 90,
   "metadata": {},
   "outputs": [
    {
     "name": "stdout",
     "output_type": "stream",
     "text": [
      "Fitting 5 folds for each of 100 candidates, totalling 500 fits\n",
      "RF:\n",
      "               precision    recall  f1-score   support\n",
      "\n",
      "           0       0.86      0.83      0.84        23\n",
      "           1       0.79      0.83      0.81        18\n",
      "\n",
      "    accuracy                           0.83        41\n",
      "   macro avg       0.83      0.83      0.83        41\n",
      "weighted avg       0.83      0.83      0.83        41\n",
      "\n",
      "The accuracy of random forest is: 0.8292682926829268\n",
      "The accuracy of random forest on training set is: 0.9627329192546584\n",
      "The mean CV score using 10-fold coross validation is: 0.7889705882352941\n"
     ]
    },
    {
     "data": {
      "text/plain": [
       "0.7889705882352941"
      ]
     },
     "execution_count": 90,
     "metadata": {},
     "output_type": "execute_result"
    }
   ],
   "source": [
    "# Number of trees in Random Forest\n",
    "rf_n_estimators = [int(x) for x in np.linspace(100, 1000, 10)]\n",
    "\n",
    "# Maximum number of levels in tree\n",
    "rf_max_depth = [int(x) for x in np.linspace(5, 55, 10)]\n",
    "# Add the default as a possible value\n",
    "rf_max_depth.append(None)\n",
    "\n",
    "# Number of features to consider at every split\n",
    "rf_max_features = ['sqrt', 'log2']\n",
    "\n",
    "# Criterion to split on\n",
    "rf_criterion = ['gini', 'entropy']\n",
    "\n",
    "# Minimum number of samples required to split a node\n",
    "rf_min_samples_split = [int(x) for x in np.linspace(2, 100, 10)]\n",
    "\n",
    "\n",
    "# # Method of selecting samples for training each tree\n",
    "# rf_bootstrap = [True, False]\n",
    "\n",
    "\n",
    "rf_min_samples_leaf = [2, 4, 6]\n",
    "# Create the grid\n",
    "rf_grid = {'n_estimators': rf_n_estimators,\n",
    "               'max_depth': rf_max_depth,\n",
    "               'max_features': rf_max_features,\n",
    "               'criterion': rf_criterion,\n",
    "               'min_samples_leaf': rf_min_samples_leaf,\n",
    "               'min_samples_split': rf_min_samples_split,\n",
    "               }\n",
    "\n",
    "from sklearn.model_selection import RandomizedSearchCV\n",
    "# Create the model to be tuned\n",
    "rf_base = RandomForestClassifier()\n",
    "\n",
    "# Create the random search Random Forest\n",
    "rf_random = RandomizedSearchCV(estimator = rf_base, param_distributions = rf_grid, scoring='f1',\n",
    "                               n_iter = 100, cv = 5, verbose = True, random_state = 2, \n",
    "                               n_jobs = -1)\n",
    "\n",
    "# Fit the random search model\n",
    "rf_random.fit(x_train, y_train)\n",
    "\n",
    "# View the best parameters from the random search\n",
    "rf_random.best_params_\n",
    "rf_best_params = rf_random.best_params_\n",
    "\n",
    "# example of evaluating a decision tree with random undersampling\n",
    "rf = RandomForestClassifier(n_estimators = rf_best_params['n_estimators'], \n",
    "                            min_samples_split= rf_best_params['min_samples_split'],\n",
    "                            max_features= rf_best_params['max_features'],\n",
    "                            max_depth= rf_best_params['max_depth'],\n",
    "                            criterion= rf_best_params['criterion'],\n",
    "                           random_state = 1)\n",
    "rf.fit(x_train,y_train)\n",
    "y_pred_rf = rf.predict(x_test)\n",
    "\n",
    "# accuracy = accuracy_score(y_test,y_pred)*100\n",
    "print('RF:\\n',metrics.classification_report(y_test,y_pred_rf))\n",
    "printAccruacy('random forest', y_test, y_pred_rf, y_train, rf.predict(x_train))\n",
    "printCVscore(rf, x_train, y_train, 10)"
   ]
  },
  {
   "cell_type": "markdown",
   "metadata": {},
   "source": [
    "#### SVM"
   ]
  },
  {
   "cell_type": "code",
   "execution_count": 91,
   "metadata": {},
   "outputs": [
    {
     "name": "stdout",
     "output_type": "stream",
     "text": [
      "Fitting 10 folds for each of 50 candidates, totalling 500 fits\n",
      "{'C': 2.0}\n",
      "SVM:\n",
      "               precision    recall  f1-score   support\n",
      "\n",
      "           0       0.86      0.83      0.84        23\n",
      "           1       0.79      0.83      0.81        18\n",
      "\n",
      "    accuracy                           0.83        41\n",
      "   macro avg       0.83      0.83      0.83        41\n",
      "weighted avg       0.83      0.83      0.83        41\n",
      "\n",
      "The accuracy of SVC model is: 0.8292682926829268\n",
      "The accuracy of SVC model on training set is: 0.9937888198757764\n",
      "0.8261029411764707\n"
     ]
    }
   ],
   "source": [
    "Cs = np.linspace(0.001, 2, 50)\n",
    "svc_grid = {'C': Cs}\n",
    "\n",
    "svc_grid_search = GridSearchCV(SVC(kernel='rbf'), svc_grid, cv=10, n_jobs = -1, verbose = 2)\n",
    "svc_grid_search.fit(x_train, y_train)\n",
    "# View the best parameters from the random search\n",
    "print(svc_grid_search.best_params_)\n",
    "svc_best_params = svc_grid_search.best_params_\n",
    "\n",
    "SupportVectorClassModel = SVC( C = svc_best_params['C'])\n",
    "SupportVectorClassModel.fit(x_train,y_train)\n",
    "y_pred = SupportVectorClassModel.predict(x_test)\n",
    "# accuracy = accuracy_score(y_test,y_pred)*100\n",
    "print('SVM:\\n',metrics.classification_report(y_test,y_pred))\n",
    "printAccruacy('SVC model', y_test, y_pred, y_train, SupportVectorClassModel.predict(x_train))\n",
    "print(np.mean(cross_validate(SupportVectorClassModel, x_train, y_train, cv=10)['test_score']))"
   ]
  },
  {
   "cell_type": "markdown",
   "metadata": {},
   "source": [
    "#### Navie Bayes"
   ]
  },
  {
   "cell_type": "code",
   "execution_count": 92,
   "metadata": {},
   "outputs": [
    {
     "name": "stdout",
     "output_type": "stream",
     "text": [
      "Fitting 10 folds for each of 40 candidates, totalling 400 fits\n",
      "{'alpha': 0.5648205128205128}\n",
      "NB:\n",
      "               precision    recall  f1-score   support\n",
      "\n",
      "           0       0.87      0.87      0.87        23\n",
      "           1       0.83      0.83      0.83        18\n",
      "\n",
      "    accuracy                           0.85        41\n",
      "   macro avg       0.85      0.85      0.85        41\n",
      "weighted avg       0.85      0.85      0.85        41\n",
      "\n",
      "The accuracy of NB model is: 0.8536585365853658\n",
      "The accuracy of NB model on training set is: 0.9316770186335404\n",
      "The mean CV score using 10-fold coross validation is: 0.7944852941176471\n"
     ]
    }
   ],
   "source": [
    "from sklearn.naive_bayes import BernoulliNB\n",
    "params = {'alpha': np.linspace(0.001, 2, 40)}\n",
    "bernoulli_nb_grid = GridSearchCV(BernoulliNB(), param_grid=params, n_jobs=-1, cv=10, verbose=5)\n",
    "bernoulli_nb_grid.fit(x_train,y_train)\n",
    "\n",
    "# View the best parameters from the random search\n",
    "print(bernoulli_nb_grid.best_params_)\n",
    "nb_best_params = bernoulli_nb_grid.best_params_\n",
    "\n",
    "# Naive Bayes \n",
    "nb = BernoulliNB( alpha = nb_best_params['alpha'])\n",
    "nb.fit(x_train,y_train)\n",
    "y_pred_nb = nb.predict(x_test)\n",
    "# accuracy = accuracy_score(y_test,y_pred)*100\n",
    "print('NB:\\n',metrics.classification_report(y_test,y_pred_nb))\n",
    "printAccruacy('NB model', y_test, y_pred_nb, y_train, nb.predict(x_train))\n",
    "score = printCVscore(nb, x_train, y_train)"
   ]
  },
  {
   "cell_type": "markdown",
   "metadata": {},
   "source": [
    "# ROC Graph"
   ]
  },
  {
   "cell_type": "code",
   "execution_count": 94,
   "metadata": {},
   "outputs": [
    {
     "data": {
      "image/png": "[encoded data removed]",
      "text/plain": [
       "<Figure size 792x360 with 2 Axes>"
      ]
     },
     "metadata": {
      "needs_background": "light"
     },
     "output_type": "display_data"
    }
   ],
   "source": [
    "N_SAMPLES = 1000\n",
    "\n",
    "classifiers = {\n",
    "    \"SVM\": SupportVectorClassModel,\n",
    "    \"Random Forest\": rf ,\n",
    "    \"Logistic Regression\": lr ,\n",
    "    \"Navie Bayes\": nb\n",
    "}\n",
    "\n",
    "fig, [ax_roc, ax_det] = plt.subplots(1, 2, figsize=(11, 5))\n",
    "\n",
    "for name, clf in classifiers.items():\n",
    "    clf.fit(x_train, y_train)\n",
    "\n",
    "    plot_roc_curve(clf, x_test, y_test, ax=ax_roc, name=name)\n",
    "    plot_det_curve(clf, x_test, y_test, ax=ax_det, name=name)\n",
    "\n",
    "ax_roc.set_title('Receiver Operating Characteristic (ROC) curves')\n",
    "ax_det.set_title('Detection Error Tradeoff (DET) curves')\n",
    "\n",
    "ax_roc.grid(linestyle='--')\n",
    "ax_det.grid(linestyle='--')\n",
    "\n",
    "plt.legend()\n",
    "plt.show()"
   ]
  },
  {
   "cell_type": "code",
   "execution_count": 95,
   "metadata": {},
   "outputs": [
    {
     "name": "stdout",
     "output_type": "stream",
     "text": [
      "SVM\n",
      "Random Forest\n",
      "Logistic Regression\n",
      "Navie Bayes\n"
     ]
    },
    {
     "data": {
      "image/png": "[encoded data removed]",
      "text/plain": [
       "<Figure size 432x288 with 2 Axes>"
      ]
     },
     "metadata": {
      "needs_background": "light"
     },
     "output_type": "display_data"
    },
    {
     "data": {
      "image/png": "[encoded data removed]",
      "text/plain": [
       "<Figure size 432x288 with 2 Axes>"
      ]
     },
     "metadata": {
      "needs_background": "light"
     },
     "output_type": "display_data"
    },
    {
     "data": {
      "image/png": "[encoded data removed]",
      "text/plain": [
       "<Figure size 432x288 with 2 Axes>"
      ]
     },
     "metadata": {
      "needs_background": "light"
     },
     "output_type": "display_data"
    },
    {
     "data": {
      "image/png": "[encoded data removed]",
      "text/plain": [
       "<Figure size 432x288 with 2 Axes>"
      ]
     },
     "metadata": {
      "needs_background": "light"
     },
     "output_type": "display_data"
    }
   ],
   "source": [
    "from sklearn.metrics import confusion_matrix\n",
    "from sklearn.metrics import ConfusionMatrixDisplay\n",
    "\n",
    "for name, clf in classifiers.items():\n",
    "    y_pred = clf.predict(x_test)\n",
    "    cm = confusion_matrix(y_test, y_pred)\n",
    "    cm_display = ConfusionMatrixDisplay(cm).plot()\n",
    "    print(name)\n",
    "plt.show()"
   ]
  },
  {
   "cell_type": "markdown",
   "metadata": {},
   "source": [
    "## Pickle"
   ]
  },
  {
   "cell_type": "code",
   "execution_count": null,
   "metadata": {},
   "outputs": [],
   "source": [
    "models = {'lg_model': lr, 'rf_model': rf, 'svc_model': SupportVectorClassModel, 'nb_model': nb}\n",
    "info = {'df': X, 'models': models}\n",
    "\n",
    "with open(\"./keto_final_info.pickle\",\"wb\") as f:\n",
    "    pickle.dump(info, f)"
   ]
  }
 ],
 "metadata": {
  "kernelspec": {
   "display_name": "Python 3",
   "language": "python",
   "name": "python3"
  },
  "language_info": {
   "codemirror_mode": {
    "name": "ipython",
    "version": 3
   },
   "file_extension": ".py",
   "mimetype": "text/x-python",
   "name": "python",
   "nbconvert_exporter": "python",
   "pygments_lexer": "ipython3",
   "version": "3.8.3"
  }
 },
 "nbformat": 4,
 "nbformat_minor": 4
}
