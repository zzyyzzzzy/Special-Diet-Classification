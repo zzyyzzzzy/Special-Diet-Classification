{
 "cells": [
  {
   "cell_type": "code",
   "execution_count": 162,
   "metadata": {},
   "outputs": [],
   "source": [
    "import pickle\n",
    "import pandas as pd\n",
    "import random"
   ]
  },
  {
   "cell_type": "code",
   "execution_count": 163,
   "metadata": {},
   "outputs": [],
   "source": [
    "# unpack pickle\n",
    "def unpackInfo(filePath):\n",
    "    with open(filePath, \"rb\") as f:\n",
    "        info = pickle.load(f)\n",
    "        return info['df'], info['models']\n",
    "\n",
    "food_df = pd.read_csv('../dataset/food.csv')"
   ]
  },
  {
   "cell_type": "code",
   "execution_count": 164,
   "metadata": {},
   "outputs": [],
   "source": [
    "mg_df, mg_models = unpackInfo(\"./fl_mg_final_info.pickle\")\n",
    "keto_df, keto_models = unpackInfo(\"./keto_final_info.pickle\")"
   ]
  },
  {
   "cell_type": "code",
   "execution_count": 165,
   "metadata": {},
   "outputs": [],
   "source": [
    "# view or match ingredient name\n",
    "def viewIngredient(df, rType):\n",
    "    if rType == 'keto':\n",
    "        temp_col = df.columns[: df.shape[1] - 1]\n",
    "    else:\n",
    "        temp_col = df.columns[1: df.shape[1] - 1]\n",
    "    to_int_lst = []\n",
    "    for i in temp_col:\n",
    "        to_int_lst.append(int(i))\n",
    "    return food_df[food_df['food_id'].isin(to_int_lst)]\n",
    "\n",
    "\n",
    "def matchName(lst):\n",
    "    return food_df[food_df['food_id'].isin(lst)]"
   ]
  },
  {
   "cell_type": "code",
   "execution_count": 182,
   "metadata": {},
   "outputs": [],
   "source": [
    "# generateDummy feature vectors for either keto or mg\n",
    "def generateDummy(numFeature, rType='keto'):\n",
    "    if rType == 'keto':\n",
    "        size = keto_df.shape[1] - 1\n",
    "        ingred_id_lst = keto_df.columns[:size]\n",
    "    else:\n",
    "        size = mg_df.shape[1] - 2\n",
    "        ingred_id_lst = mg_df.columns[1:mg_df.shape[1] - 1]\n",
    "    contained_ingred_id = []\n",
    "    feature_vec = [0] * size\n",
    "    rand_num = random.sample(range(size), numFeature)\n",
    "    for i in rand_num:\n",
    "        feature_vec[i] = 1\n",
    "        contained_ingred_id.append(ingred_id_lst[i])\n",
    "    return feature_vec, contained_ingred_id\n",
    "\n",
    "def printRes(model, feature_vec, rType):\n",
    "    predict = model.predict([feature_vec])[0]\n",
    "    if predict:\n",
    "        print(f'The recipe is classified as {rType} recipe')\n",
    "    else:\n",
    "        print(f'The recipe is not a {rType} recipe')"
   ]
  },
  {
   "cell_type": "code",
   "execution_count": 178,
   "metadata": {},
   "outputs": [],
   "source": [
    "# generate dummy feature vector for keto\n",
    "feature_vec, ingred_ids = generateDummy(10)"
   ]
  },
  {
   "cell_type": "code",
   "execution_count": 179,
   "metadata": {},
   "outputs": [
    {
     "data": {
      "text/html": [
       "<div>\n",
       "<style scoped>\n",
       "    .dataframe tbody tr th:only-of-type {\n",
       "        vertical-align: middle;\n",
       "    }\n",
       "\n",
       "    .dataframe tbody tr th {\n",
       "        vertical-align: top;\n",
       "    }\n",
       "\n",
       "    .dataframe thead th {\n",
       "        text-align: right;\n",
       "    }\n",
       "</style>\n",
       "<table border=\"1\" class=\"dataframe\">\n",
       "  <thead>\n",
       "    <tr style=\"text-align: right;\">\n",
       "      <th></th>\n",
       "      <th>food_id</th>\n",
       "      <th>food_name</th>\n",
       "    </tr>\n",
       "  </thead>\n",
       "  <tbody>\n",
       "    <tr>\n",
       "      <th>6</th>\n",
       "      <td>36492</td>\n",
       "      <td>Russet Potatoes (Flesh and Skin)</td>\n",
       "    </tr>\n",
       "    <tr>\n",
       "      <th>335</th>\n",
       "      <td>35001</td>\n",
       "      <td>Chicken Stock</td>\n",
       "    </tr>\n",
       "    <tr>\n",
       "      <th>874</th>\n",
       "      <td>36415</td>\n",
       "      <td>Green Leaf Lettuce</td>\n",
       "    </tr>\n",
       "    <tr>\n",
       "      <th>1127</th>\n",
       "      <td>35719</td>\n",
       "      <td>Apples (Without Skin)</td>\n",
       "    </tr>\n",
       "    <tr>\n",
       "      <th>1231</th>\n",
       "      <td>33717</td>\n",
       "      <td>Ricotta Cheese (Part Skim Milk)</td>\n",
       "    </tr>\n",
       "    <tr>\n",
       "      <th>1457</th>\n",
       "      <td>36464</td>\n",
       "      <td>Green Peas</td>\n",
       "    </tr>\n",
       "    <tr>\n",
       "      <th>1515</th>\n",
       "      <td>36414</td>\n",
       "      <td>Iceberg Lettuce (Includes Crisphead Types)</td>\n",
       "    </tr>\n",
       "    <tr>\n",
       "      <th>1781</th>\n",
       "      <td>35190</td>\n",
       "      <td>Turkey Breast Meat</td>\n",
       "    </tr>\n",
       "    <tr>\n",
       "      <th>2076</th>\n",
       "      <td>33786</td>\n",
       "      <td>Plain Yogurt (Lowfat)</td>\n",
       "    </tr>\n",
       "    <tr>\n",
       "      <th>2659</th>\n",
       "      <td>40627</td>\n",
       "      <td>Cheddar or American Cheese (Fat Free, Pasteuri...</td>\n",
       "    </tr>\n",
       "  </tbody>\n",
       "</table>\n",
       "</div>"
      ],
      "text/plain": [
       "      food_id                                          food_name\n",
       "6       36492                   Russet Potatoes (Flesh and Skin)\n",
       "335     35001                                      Chicken Stock\n",
       "874     36415                                 Green Leaf Lettuce\n",
       "1127    35719                              Apples (Without Skin)\n",
       "1231    33717                    Ricotta Cheese (Part Skim Milk)\n",
       "1457    36464                                         Green Peas\n",
       "1515    36414         Iceberg Lettuce (Includes Crisphead Types)\n",
       "1781    35190                                 Turkey Breast Meat\n",
       "2076    33786                              Plain Yogurt (Lowfat)\n",
       "2659    40627  Cheddar or American Cheese (Fat Free, Pasteuri..."
      ]
     },
     "execution_count": 179,
     "metadata": {},
     "output_type": "execute_result"
    }
   ],
   "source": [
    "matchName(ingred_ids)"
   ]
  },
  {
   "cell_type": "code",
   "execution_count": 180,
   "metadata": {},
   "outputs": [
    {
     "name": "stdout",
     "output_type": "stream",
     "text": [
      "The recipe is not a keto recipe\n"
     ]
    }
   ],
   "source": [
    "# keto demo\n",
    "printRes(keto_models['nb_model'], feature_vec, 'keto')"
   ]
  },
  {
   "cell_type": "code",
   "execution_count": 183,
   "metadata": {},
   "outputs": [],
   "source": [
    "# generate dummy feature vector for mg\n",
    "feature_vec, ingred_ids = generateDummy(10, 'mg')"
   ]
  },
  {
   "cell_type": "code",
   "execution_count": 184,
   "metadata": {},
   "outputs": [
    {
     "data": {
      "text/plain": [
       "247"
      ]
     },
     "execution_count": 184,
     "metadata": {},
     "output_type": "execute_result"
    }
   ],
   "source": [
    "len(feature_vec)"
   ]
  },
  {
   "cell_type": "code",
   "execution_count": 185,
   "metadata": {},
   "outputs": [
    {
     "data": {
      "text/html": [
       "<div>\n",
       "<style scoped>\n",
       "    .dataframe tbody tr th:only-of-type {\n",
       "        vertical-align: middle;\n",
       "    }\n",
       "\n",
       "    .dataframe tbody tr th {\n",
       "        vertical-align: top;\n",
       "    }\n",
       "\n",
       "    .dataframe thead th {\n",
       "        text-align: right;\n",
       "    }\n",
       "</style>\n",
       "<table border=\"1\" class=\"dataframe\">\n",
       "  <thead>\n",
       "    <tr style=\"text-align: right;\">\n",
       "      <th></th>\n",
       "      <th>food_id</th>\n",
       "      <th>food_name</th>\n",
       "    </tr>\n",
       "  </thead>\n",
       "  <tbody>\n",
       "    <tr>\n",
       "      <th>187</th>\n",
       "      <td>35752</td>\n",
       "      <td>Avocados</td>\n",
       "    </tr>\n",
       "    <tr>\n",
       "      <th>266</th>\n",
       "      <td>4308635</td>\n",
       "      <td>93/7 Lean Ground Beef</td>\n",
       "    </tr>\n",
       "    <tr>\n",
       "      <th>415</th>\n",
       "      <td>36957</td>\n",
       "      <td>Ketchup</td>\n",
       "    </tr>\n",
       "    <tr>\n",
       "      <th>423</th>\n",
       "      <td>33792</td>\n",
       "      <td>Egg (Whole)</td>\n",
       "    </tr>\n",
       "    <tr>\n",
       "      <th>1515</th>\n",
       "      <td>36414</td>\n",
       "      <td>Iceberg Lettuce (Includes Crisphead Types)</td>\n",
       "    </tr>\n",
       "    <tr>\n",
       "      <th>1616</th>\n",
       "      <td>38212</td>\n",
       "      <td>Tilapia (Fish)</td>\n",
       "    </tr>\n",
       "    <tr>\n",
       "      <th>2077</th>\n",
       "      <td>33835</td>\n",
       "      <td>Cheddar or Colby Cheese (Lowfat)</td>\n",
       "    </tr>\n",
       "    <tr>\n",
       "      <th>2188</th>\n",
       "      <td>38087</td>\n",
       "      <td>White Tuna Fish (Drained Solids In Water, Canned)</td>\n",
       "    </tr>\n",
       "    <tr>\n",
       "      <th>2262</th>\n",
       "      <td>33787</td>\n",
       "      <td>Plain Yogurt (Skim Milk)</td>\n",
       "    </tr>\n",
       "    <tr>\n",
       "      <th>2356</th>\n",
       "      <td>40740</td>\n",
       "      <td>Parmesan Cheese (Low Sodium)</td>\n",
       "    </tr>\n",
       "  </tbody>\n",
       "</table>\n",
       "</div>"
      ],
      "text/plain": [
       "      food_id                                          food_name\n",
       "187     35752                                           Avocados\n",
       "266   4308635                              93/7 Lean Ground Beef\n",
       "415     36957                                            Ketchup\n",
       "423     33792                                        Egg (Whole)\n",
       "1515    36414         Iceberg Lettuce (Includes Crisphead Types)\n",
       "1616    38212                                     Tilapia (Fish)\n",
       "2077    33835                   Cheddar or Colby Cheese (Lowfat)\n",
       "2188    38087  White Tuna Fish (Drained Solids In Water, Canned)\n",
       "2262    33787                           Plain Yogurt (Skim Milk)\n",
       "2356    40740                       Parmesan Cheese (Low Sodium)"
      ]
     },
     "execution_count": 185,
     "metadata": {},
     "output_type": "execute_result"
    }
   ],
   "source": [
    "matchName(ingred_ids)"
   ]
  },
  {
   "cell_type": "code",
   "execution_count": 186,
   "metadata": {},
   "outputs": [
    {
     "name": "stdout",
     "output_type": "stream",
     "text": [
      "The recipe is classified as mg recipe\n"
     ]
    }
   ],
   "source": [
    "# keto demo\n",
    "printRes(mg_models['nb_model'], feature_vec, 'mg')"
   ]
  }
 ],
 "metadata": {
  "kernelspec": {
   "display_name": "Python 3",
   "language": "python",
   "name": "python3"
  },
  "language_info": {
   "codemirror_mode": {
    "name": "ipython",
    "version": 3
   },
   "file_extension": ".py",
   "mimetype": "text/x-python",
   "name": "python",
   "nbconvert_exporter": "python",
   "pygments_lexer": "ipython3",
   "version": "3.8.3"
  }
 },
 "nbformat": 4,
 "nbformat_minor": 4
}
