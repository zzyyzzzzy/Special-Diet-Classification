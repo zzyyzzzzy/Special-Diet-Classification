{
 "cells": [
  {
   "cell_type": "code",
   "execution_count": 2,
   "metadata": {},
   "outputs": [],
   "source": [
    "import pickle\n",
    "import pandas as pd\n",
    "import numpy as np\n",
    "import matplotlib.pyplot as plt\n",
    "\n",
    "from imblearn.over_sampling import SMOTEN\n",
    "from collections import Counter\n",
    "from sklearn.model_selection import cross_validate\n",
    "from sklearn import metrics\n",
    "from sklearn.model_selection import train_test_split\n",
    "from sklearn.model_selection import RandomizedSearchCV\n",
    "from sklearn.model_selection import GridSearchCV\n",
    "from sklearn.metrics import accuracy_score\n",
    "from sklearn.linear_model import LogisticRegression\n",
    "from sklearn.tree import DecisionTreeClassifier\n",
    "from sklearn.svm import SVC\n",
    "from sklearn.ensemble import RandomForestClassifier\n",
    "from sklearn.naive_bayes import BernoulliNB\n",
    "\n",
    "from sklearn.metrics import classification_report\n",
    "from sklearn.metrics import plot_det_curve\n",
    "from sklearn.metrics import plot_roc_curve\n",
    "from sklearn.pipeline import make_pipeline\n",
    "from sklearn.preprocessing import StandardScaler"
   ]
  },
  {
   "cell_type": "code",
   "execution_count": 4,
   "metadata": {},
   "outputs": [],
   "source": [
    "recipe_df = pd.read_csv('../../dataset/recipes.csv')\n",
    "recipe_with_ingred = pd.read_csv('../../dataset/recipe_with_ingredient.csv')\n",
    "food_df = pd.read_csv('../../dataset/food.csv')\n",
    "ingred_spices_df = pd.read_csv('collect_spices_ingred_df.csv')"
   ]
  },
  {
   "cell_type": "code",
   "execution_count": 150,
   "metadata": {},
   "outputs": [
    {
     "data": {
      "text/html": [
       "<div>\n",
       "<style scoped>\n",
       "    .dataframe tbody tr th:only-of-type {\n",
       "        vertical-align: middle;\n",
       "    }\n",
       "\n",
       "    .dataframe tbody tr th {\n",
       "        vertical-align: top;\n",
       "    }\n",
       "\n",
       "    .dataframe thead th {\n",
       "        text-align: right;\n",
       "    }\n",
       "</style>\n",
       "<table border=\"1\" class=\"dataframe\">\n",
       "  <thead>\n",
       "    <tr style=\"text-align: right;\">\n",
       "      <th></th>\n",
       "      <th>Unnamed: 0</th>\n",
       "      <th>food_id</th>\n",
       "      <th>count</th>\n",
       "      <th>food_name</th>\n",
       "    </tr>\n",
       "  </thead>\n",
       "  <tbody>\n",
       "    <tr>\n",
       "      <th>0</th>\n",
       "      <td>262</td>\n",
       "      <td>33908</td>\n",
       "      <td>995</td>\n",
       "      <td>Salt</td>\n",
       "    </tr>\n",
       "    <tr>\n",
       "      <th>1</th>\n",
       "      <td>317</td>\n",
       "      <td>33892</td>\n",
       "      <td>854</td>\n",
       "      <td>Black Pepper</td>\n",
       "    </tr>\n",
       "    <tr>\n",
       "      <th>2</th>\n",
       "      <td>334</td>\n",
       "      <td>36383</td>\n",
       "      <td>751</td>\n",
       "      <td>Garlic</td>\n",
       "    </tr>\n",
       "    <tr>\n",
       "      <th>3</th>\n",
       "      <td>218</td>\n",
       "      <td>34212</td>\n",
       "      <td>630</td>\n",
       "      <td>Olive Oil</td>\n",
       "    </tr>\n",
       "    <tr>\n",
       "      <th>4</th>\n",
       "      <td>390</td>\n",
       "      <td>33872</td>\n",
       "      <td>254</td>\n",
       "      <td>Cinnamon</td>\n",
       "    </tr>\n",
       "  </tbody>\n",
       "</table>\n",
       "</div>"
      ],
      "text/plain": [
       "   Unnamed: 0  food_id  count     food_name\n",
       "0         262    33908    995          Salt\n",
       "1         317    33892    854  Black Pepper\n",
       "2         334    36383    751        Garlic\n",
       "3         218    34212    630     Olive Oil\n",
       "4         390    33872    254      Cinnamon"
      ]
     },
     "execution_count": 150,
     "metadata": {},
     "output_type": "execute_result"
    }
   ],
   "source": [
    "ingred_spices_df.head()"
   ]
  },
  {
   "cell_type": "markdown",
   "metadata": {},
   "source": [
    "# Feature Engineering\n",
    "<hr />"
   ]
  },
  {
   "cell_type": "markdown",
   "metadata": {},
   "source": [
    "#### Define label and merge with feature vectors"
   ]
  },
  {
   "cell_type": "code",
   "execution_count": 151,
   "metadata": {},
   "outputs": [],
   "source": [
    "# Define labels\n",
    "def mg_apply_func(row):\n",
    "    fat, carb, protein = row['fat'] * 9, row['carbohydrate'] * 4, row['protein'] * 4\n",
    "    total = row['calories']\n",
    "    if total <= 0:\n",
    "        return 0\n",
    "    f_percent, c_percent, p_percent = fat / total, carb / total, protein / total\n",
    "    if p_percent >= 0.35:\n",
    "        if  0.15 <= f_percent <= 0.3:\n",
    "            return 1\n",
    "    return 0"
   ]
  },
  {
   "cell_type": "code",
   "execution_count": 152,
   "metadata": {},
   "outputs": [],
   "source": [
    "recipe_df['fl_mg'] = recipe_df.apply(mg_apply_func, axis=1)"
   ]
  },
  {
   "cell_type": "code",
   "execution_count": 153,
   "metadata": {},
   "outputs": [],
   "source": [
    "res_recipe_df = pd.merge(recipe_with_ingred, recipe_df[['recipe_id', 'fl_mg']], on='recipe_id', how='inner')"
   ]
  },
  {
   "cell_type": "code",
   "execution_count": 154,
   "metadata": {},
   "outputs": [
    {
     "data": {
      "text/html": [
       "<div>\n",
       "<style scoped>\n",
       "    .dataframe tbody tr th:only-of-type {\n",
       "        vertical-align: middle;\n",
       "    }\n",
       "\n",
       "    .dataframe tbody tr th {\n",
       "        vertical-align: top;\n",
       "    }\n",
       "\n",
       "    .dataframe thead th {\n",
       "        text-align: right;\n",
       "    }\n",
       "</style>\n",
       "<table border=\"1\" class=\"dataframe\">\n",
       "  <thead>\n",
       "    <tr style=\"text-align: right;\">\n",
       "      <th></th>\n",
       "      <th>recipe_id</th>\n",
       "      <th>33919</th>\n",
       "      <th>39699</th>\n",
       "      <th>61271</th>\n",
       "      <th>3419</th>\n",
       "      <th>15845548</th>\n",
       "      <th>75372</th>\n",
       "      <th>570035</th>\n",
       "      <th>1071192</th>\n",
       "      <th>41011</th>\n",
       "      <th>...</th>\n",
       "      <th>1350</th>\n",
       "      <th>72158</th>\n",
       "      <th>49809</th>\n",
       "      <th>2200644</th>\n",
       "      <th>50123</th>\n",
       "      <th>40637</th>\n",
       "      <th>28033</th>\n",
       "      <th>38403</th>\n",
       "      <th>40592</th>\n",
       "      <th>fl_mg</th>\n",
       "    </tr>\n",
       "  </thead>\n",
       "  <tbody>\n",
       "    <tr>\n",
       "      <th>0</th>\n",
       "      <td>45430986</td>\n",
       "      <td>0</td>\n",
       "      <td>0</td>\n",
       "      <td>0</td>\n",
       "      <td>0</td>\n",
       "      <td>0</td>\n",
       "      <td>0</td>\n",
       "      <td>0</td>\n",
       "      <td>0</td>\n",
       "      <td>0</td>\n",
       "      <td>...</td>\n",
       "      <td>0</td>\n",
       "      <td>0</td>\n",
       "      <td>0</td>\n",
       "      <td>0</td>\n",
       "      <td>0</td>\n",
       "      <td>0</td>\n",
       "      <td>0</td>\n",
       "      <td>0</td>\n",
       "      <td>0</td>\n",
       "      <td>0</td>\n",
       "    </tr>\n",
       "    <tr>\n",
       "      <th>1</th>\n",
       "      <td>42818205</td>\n",
       "      <td>0</td>\n",
       "      <td>0</td>\n",
       "      <td>0</td>\n",
       "      <td>0</td>\n",
       "      <td>0</td>\n",
       "      <td>0</td>\n",
       "      <td>0</td>\n",
       "      <td>0</td>\n",
       "      <td>0</td>\n",
       "      <td>...</td>\n",
       "      <td>0</td>\n",
       "      <td>0</td>\n",
       "      <td>0</td>\n",
       "      <td>0</td>\n",
       "      <td>0</td>\n",
       "      <td>0</td>\n",
       "      <td>0</td>\n",
       "      <td>0</td>\n",
       "      <td>0</td>\n",
       "      <td>0</td>\n",
       "    </tr>\n",
       "    <tr>\n",
       "      <th>2</th>\n",
       "      <td>42384638</td>\n",
       "      <td>0</td>\n",
       "      <td>0</td>\n",
       "      <td>0</td>\n",
       "      <td>0</td>\n",
       "      <td>0</td>\n",
       "      <td>0</td>\n",
       "      <td>0</td>\n",
       "      <td>0</td>\n",
       "      <td>0</td>\n",
       "      <td>...</td>\n",
       "      <td>0</td>\n",
       "      <td>0</td>\n",
       "      <td>0</td>\n",
       "      <td>0</td>\n",
       "      <td>0</td>\n",
       "      <td>0</td>\n",
       "      <td>0</td>\n",
       "      <td>0</td>\n",
       "      <td>0</td>\n",
       "      <td>0</td>\n",
       "    </tr>\n",
       "    <tr>\n",
       "      <th>3</th>\n",
       "      <td>42288128</td>\n",
       "      <td>0</td>\n",
       "      <td>0</td>\n",
       "      <td>0</td>\n",
       "      <td>0</td>\n",
       "      <td>0</td>\n",
       "      <td>0</td>\n",
       "      <td>0</td>\n",
       "      <td>0</td>\n",
       "      <td>0</td>\n",
       "      <td>...</td>\n",
       "      <td>0</td>\n",
       "      <td>0</td>\n",
       "      <td>0</td>\n",
       "      <td>0</td>\n",
       "      <td>0</td>\n",
       "      <td>0</td>\n",
       "      <td>0</td>\n",
       "      <td>0</td>\n",
       "      <td>0</td>\n",
       "      <td>0</td>\n",
       "    </tr>\n",
       "    <tr>\n",
       "      <th>4</th>\n",
       "      <td>8629075</td>\n",
       "      <td>0</td>\n",
       "      <td>0</td>\n",
       "      <td>0</td>\n",
       "      <td>0</td>\n",
       "      <td>0</td>\n",
       "      <td>0</td>\n",
       "      <td>0</td>\n",
       "      <td>0</td>\n",
       "      <td>0</td>\n",
       "      <td>...</td>\n",
       "      <td>0</td>\n",
       "      <td>0</td>\n",
       "      <td>0</td>\n",
       "      <td>0</td>\n",
       "      <td>0</td>\n",
       "      <td>0</td>\n",
       "      <td>0</td>\n",
       "      <td>0</td>\n",
       "      <td>0</td>\n",
       "      <td>0</td>\n",
       "    </tr>\n",
       "  </tbody>\n",
       "</table>\n",
       "<p>5 rows × 3804 columns</p>\n",
       "</div>"
      ],
      "text/plain": [
       "   recipe_id  33919  39699  61271  3419  15845548  75372  570035  1071192  \\\n",
       "0   45430986      0      0      0     0         0      0       0        0   \n",
       "1   42818205      0      0      0     0         0      0       0        0   \n",
       "2   42384638      0      0      0     0         0      0       0        0   \n",
       "3   42288128      0      0      0     0         0      0       0        0   \n",
       "4    8629075      0      0      0     0         0      0       0        0   \n",
       "\n",
       "   41011  ...  1350  72158  49809  2200644  50123  40637  28033  38403  40592  \\\n",
       "0      0  ...     0      0      0        0      0      0      0      0      0   \n",
       "1      0  ...     0      0      0        0      0      0      0      0      0   \n",
       "2      0  ...     0      0      0        0      0      0      0      0      0   \n",
       "3      0  ...     0      0      0        0      0      0      0      0      0   \n",
       "4      0  ...     0      0      0        0      0      0      0      0      0   \n",
       "\n",
       "   fl_mg  \n",
       "0      0  \n",
       "1      0  \n",
       "2      0  \n",
       "3      0  \n",
       "4      0  \n",
       "\n",
       "[5 rows x 3804 columns]"
      ]
     },
     "execution_count": 154,
     "metadata": {},
     "output_type": "execute_result"
    }
   ],
   "source": [
    "res_recipe_df.head()"
   ]
  },
  {
   "cell_type": "markdown",
   "metadata": {},
   "source": [
    "#### Drop spices & seasoning"
   ]
  },
  {
   "cell_type": "code",
   "execution_count": 155,
   "metadata": {},
   "outputs": [
    {
     "data": {
      "text/html": [
       "<div>\n",
       "<style scoped>\n",
       "    .dataframe tbody tr th:only-of-type {\n",
       "        vertical-align: middle;\n",
       "    }\n",
       "\n",
       "    .dataframe tbody tr th {\n",
       "        vertical-align: top;\n",
       "    }\n",
       "\n",
       "    .dataframe thead th {\n",
       "        text-align: right;\n",
       "    }\n",
       "</style>\n",
       "<table border=\"1\" class=\"dataframe\">\n",
       "  <thead>\n",
       "    <tr style=\"text-align: right;\">\n",
       "      <th></th>\n",
       "      <th>recipe_id</th>\n",
       "      <th>39699</th>\n",
       "      <th>61271</th>\n",
       "      <th>3419</th>\n",
       "      <th>15845548</th>\n",
       "      <th>75372</th>\n",
       "      <th>570035</th>\n",
       "      <th>1071192</th>\n",
       "      <th>41011</th>\n",
       "      <th>39128</th>\n",
       "      <th>...</th>\n",
       "      <th>1350</th>\n",
       "      <th>72158</th>\n",
       "      <th>49809</th>\n",
       "      <th>2200644</th>\n",
       "      <th>50123</th>\n",
       "      <th>40637</th>\n",
       "      <th>28033</th>\n",
       "      <th>38403</th>\n",
       "      <th>40592</th>\n",
       "      <th>fl_mg</th>\n",
       "    </tr>\n",
       "  </thead>\n",
       "  <tbody>\n",
       "    <tr>\n",
       "      <th>0</th>\n",
       "      <td>45430986</td>\n",
       "      <td>0</td>\n",
       "      <td>0</td>\n",
       "      <td>0</td>\n",
       "      <td>0</td>\n",
       "      <td>0</td>\n",
       "      <td>0</td>\n",
       "      <td>0</td>\n",
       "      <td>0</td>\n",
       "      <td>0</td>\n",
       "      <td>...</td>\n",
       "      <td>0</td>\n",
       "      <td>0</td>\n",
       "      <td>0</td>\n",
       "      <td>0</td>\n",
       "      <td>0</td>\n",
       "      <td>0</td>\n",
       "      <td>0</td>\n",
       "      <td>0</td>\n",
       "      <td>0</td>\n",
       "      <td>0</td>\n",
       "    </tr>\n",
       "    <tr>\n",
       "      <th>1</th>\n",
       "      <td>42818205</td>\n",
       "      <td>0</td>\n",
       "      <td>0</td>\n",
       "      <td>0</td>\n",
       "      <td>0</td>\n",
       "      <td>0</td>\n",
       "      <td>0</td>\n",
       "      <td>0</td>\n",
       "      <td>0</td>\n",
       "      <td>0</td>\n",
       "      <td>...</td>\n",
       "      <td>0</td>\n",
       "      <td>0</td>\n",
       "      <td>0</td>\n",
       "      <td>0</td>\n",
       "      <td>0</td>\n",
       "      <td>0</td>\n",
       "      <td>0</td>\n",
       "      <td>0</td>\n",
       "      <td>0</td>\n",
       "      <td>0</td>\n",
       "    </tr>\n",
       "    <tr>\n",
       "      <th>2</th>\n",
       "      <td>42384638</td>\n",
       "      <td>0</td>\n",
       "      <td>0</td>\n",
       "      <td>0</td>\n",
       "      <td>0</td>\n",
       "      <td>0</td>\n",
       "      <td>0</td>\n",
       "      <td>0</td>\n",
       "      <td>0</td>\n",
       "      <td>0</td>\n",
       "      <td>...</td>\n",
       "      <td>0</td>\n",
       "      <td>0</td>\n",
       "      <td>0</td>\n",
       "      <td>0</td>\n",
       "      <td>0</td>\n",
       "      <td>0</td>\n",
       "      <td>0</td>\n",
       "      <td>0</td>\n",
       "      <td>0</td>\n",
       "      <td>0</td>\n",
       "    </tr>\n",
       "    <tr>\n",
       "      <th>3</th>\n",
       "      <td>42288128</td>\n",
       "      <td>0</td>\n",
       "      <td>0</td>\n",
       "      <td>0</td>\n",
       "      <td>0</td>\n",
       "      <td>0</td>\n",
       "      <td>0</td>\n",
       "      <td>0</td>\n",
       "      <td>0</td>\n",
       "      <td>0</td>\n",
       "      <td>...</td>\n",
       "      <td>0</td>\n",
       "      <td>0</td>\n",
       "      <td>0</td>\n",
       "      <td>0</td>\n",
       "      <td>0</td>\n",
       "      <td>0</td>\n",
       "      <td>0</td>\n",
       "      <td>0</td>\n",
       "      <td>0</td>\n",
       "      <td>0</td>\n",
       "    </tr>\n",
       "    <tr>\n",
       "      <th>4</th>\n",
       "      <td>8629075</td>\n",
       "      <td>0</td>\n",
       "      <td>0</td>\n",
       "      <td>0</td>\n",
       "      <td>0</td>\n",
       "      <td>0</td>\n",
       "      <td>0</td>\n",
       "      <td>0</td>\n",
       "      <td>0</td>\n",
       "      <td>0</td>\n",
       "      <td>...</td>\n",
       "      <td>0</td>\n",
       "      <td>0</td>\n",
       "      <td>0</td>\n",
       "      <td>0</td>\n",
       "      <td>0</td>\n",
       "      <td>0</td>\n",
       "      <td>0</td>\n",
       "      <td>0</td>\n",
       "      <td>0</td>\n",
       "      <td>0</td>\n",
       "    </tr>\n",
       "  </tbody>\n",
       "</table>\n",
       "<p>5 rows × 3302 columns</p>\n",
       "</div>"
      ],
      "text/plain": [
       "   recipe_id  39699  61271  3419  15845548  75372  570035  1071192  41011  \\\n",
       "0   45430986      0      0     0         0      0       0        0      0   \n",
       "1   42818205      0      0     0         0      0       0        0      0   \n",
       "2   42384638      0      0     0         0      0       0        0      0   \n",
       "3   42288128      0      0     0         0      0       0        0      0   \n",
       "4    8629075      0      0     0         0      0       0        0      0   \n",
       "\n",
       "   39128  ...  1350  72158  49809  2200644  50123  40637  28033  38403  40592  \\\n",
       "0      0  ...     0      0      0        0      0      0      0      0      0   \n",
       "1      0  ...     0      0      0        0      0      0      0      0      0   \n",
       "2      0  ...     0      0      0        0      0      0      0      0      0   \n",
       "3      0  ...     0      0      0        0      0      0      0      0      0   \n",
       "4      0  ...     0      0      0        0      0      0      0      0      0   \n",
       "\n",
       "   fl_mg  \n",
       "0      0  \n",
       "1      0  \n",
       "2      0  \n",
       "3      0  \n",
       "4      0  \n",
       "\n",
       "[5 rows x 3302 columns]"
      ]
     },
     "execution_count": 155,
     "metadata": {},
     "output_type": "execute_result"
    }
   ],
   "source": [
    "res_recipe_df = res_recipe_df.drop(labels = [str(x) for x in ingred_spices_df.food_id.values], axis = 1)\n",
    "res_recipe_df.head()"
   ]
  },
  {
   "cell_type": "markdown",
   "metadata": {},
   "source": [
    "#### Feature selection with undersampling"
   ]
  },
  {
   "cell_type": "code",
   "execution_count": 156,
   "metadata": {},
   "outputs": [],
   "source": [
    "def undersampleNegative(df, label, coef=1, random_state=0):\n",
    "    positive_label_df = df[df[label] == 1]\n",
    "    negative_label_df = df[df[label] == 0]\n",
    "    negative_undersampled = negative_label_df.sample(n= round(coef * len(positive_label_df)), random_state=random_state)\n",
    "    return pd.concat([positive_label_df, negative_undersampled ], axis= 0)\n",
    "\n",
    "def tryFeaturePercent(df,params):\n",
    "    best_accracy, best_percent = 0, 0\n",
    "    for p in params:\n",
    "        temp_df = df.loc[:, df.sum(axis=0)/df.shape[0] >= p]\n",
    "        X, y = df.iloc[:, 1:df.shape[1] - 1], df.iloc[:, df.shape[1] - 1]\n",
    "        X_train, X_test, y_train, y_test = train_test_split(X, y, test_size=0.2, random_state=25)\n",
    "        rf = RandomForestClassifier() \n",
    "        rf = rf.fit(X_train, y_train)\n",
    "        cur_acc = accuracy_score(y_test, rf.predict(X_test))\n",
    "        if cur_acc >= best_accracy:\n",
    "            best_percent = p\n",
    "            best_accracy = cur_acc\n",
    "    return best_percent, best_accracy\n",
    "\n",
    "def tryDiffRandomState(params):\n",
    "    best_params = []\n",
    "    for p in params:\n",
    "        feature_select_df = undersampleNegative(res_recipe_df, 'fl_mg', 1, p)\n",
    "        cur_best_percent, cur_best_acc  = tryFeaturePercent(feature_select_df, np.linspace(0.0004, 0.005, 40))\n",
    "        best_params.append(cur_best_percent)\n",
    "    return best_params\n",
    "\n",
    "def viewIngredient(df):\n",
    "    to_int_lst = []\n",
    "    for i in df.columns[1: res_recipe_df.shape[1] - 1]:\n",
    "        to_int_lst.append(int(i))\n",
    "    return food_df[food_df['food_id'].isin(to_int_lst)]"
   ]
  },
  {
   "cell_type": "code",
   "execution_count": 157,
   "metadata": {},
   "outputs": [
    {
     "name": "stdout",
     "output_type": "stream",
     "text": [
      "The pramas in each iteration to select features are [0.004882051282051283, 0.004528205128205128, 0.004646153846153847, 0.0026410256410256414, 0.004882051282051283, 0.0011076923076923078, 0.002287179487179487, 0.0019333333333333333, 0.004882051282051283, 0.0014615384615384616]\n"
     ]
    }
   ],
   "source": [
    "# find params to cut rare features\n",
    "# This cell takes about 3 min to run (deppeding on the size of iterable passed in)\n",
    "\n",
    "params = tryDiffRandomState(range(0,10))\n",
    "print(f'The pramas in each iteration to select features are {params}')"
   ]
  },
  {
   "cell_type": "code",
   "execution_count": 158,
   "metadata": {},
   "outputs": [
    {
     "data": {
      "text/plain": [
       "0.003325128205128205"
      ]
     },
     "execution_count": 158,
     "metadata": {},
     "output_type": "execute_result"
    }
   ],
   "source": [
    "optimal_params = np.mean(params)\n",
    "optimal_params "
   ]
  },
  {
   "cell_type": "code",
   "execution_count": 159,
   "metadata": {},
   "outputs": [
    {
     "name": "stdout",
     "output_type": "stream",
     "text": [
      "The size of dataframe after selection (3365, 249)\n"
     ]
    }
   ],
   "source": [
    "# elliminate rare ingredient\n",
    "\n",
    "res_recipe_df = res_recipe_df.loc[:, res_recipe_df.sum(axis=0)/res_recipe_df.shape[0] >= optimal_params]\n",
    "print(f'The size of dataframe after selection {res_recipe_df.shape}')"
   ]
  },
  {
   "cell_type": "code",
   "execution_count": 160,
   "metadata": {},
   "outputs": [
    {
     "name": "stdout",
     "output_type": "stream",
     "text": [
      "The size of dataframe after drop rows with no ingredient (3214, 249)\n"
     ]
    }
   ],
   "source": [
    "# drop row if it does not contain any ingredient\n",
    "\n",
    "res_recipe_df = res_recipe_df.loc[(res_recipe_df.iloc[:, 1:res_recipe_df.shape[1] - 1] != 0).any(axis=1)]\n",
    "print(f'The size of dataframe after drop rows with no ingredient {res_recipe_df.shape}')"
   ]
  },
  {
   "cell_type": "code",
   "execution_count": 205,
   "metadata": {},
   "outputs": [
    {
     "name": "stdout",
     "output_type": "stream",
     "text": [
      "The size of dataframe after drop rows with duplicates (2841, 249)\n"
     ]
    }
   ],
   "source": [
    "# drop duplicates\n",
    "\n",
    "res_recipe_df = res_recipe_df[res_recipe_df.iloc[:, 1:res_recipe_df.shape[1] - 1].duplicated() == False]\n",
    "print(f'The size of dataframe after drop rows with duplicates {res_recipe_df.shape}')"
   ]
  },
  {
   "cell_type": "markdown",
   "metadata": {},
   "source": [
    "# UnderSampling\n",
    "<hr />"
   ]
  },
  {
   "cell_type": "code",
   "execution_count": 162,
   "metadata": {},
   "outputs": [],
   "source": [
    "def splitDataset(df, test_size=0.2, random_state=0):\n",
    "    X, y = df.iloc[:, 1:df.shape[1] - 1], df.iloc[:, df.shape[1] - 1]\n",
    "    return train_test_split(X, y, test_size=test_size, random_state=random_state)\n",
    "    "
   ]
  },
  {
   "cell_type": "code",
   "execution_count": 163,
   "metadata": {},
   "outputs": [],
   "source": [
    "# undersampleNegative(df, 'label to undersample', 'coef', 'random state')\n",
    "final_df = undersampleNegative(res_recipe_df, 'fl_mg', 1, 0)"
   ]
  },
  {
   "cell_type": "code",
   "execution_count": 164,
   "metadata": {},
   "outputs": [
    {
     "name": "stdout",
     "output_type": "stream",
     "text": [
      "class counts in traning set: Counter({0: 189, 1: 182})\n"
     ]
    }
   ],
   "source": [
    "X_train, X_test, y_train, y_test = splitDataset(final_df)\n",
    "print(f\"class counts in traning set: {Counter(y_train)}\")"
   ]
  },
  {
   "cell_type": "markdown",
   "metadata": {},
   "source": [
    "# Model Building and Training\n",
    "<hr />"
   ]
  },
  {
   "cell_type": "code",
   "execution_count": 167,
   "metadata": {},
   "outputs": [],
   "source": [
    "def printAccruacy(model_name, actual_test, predictions_test, actual_train=None, predictions_train=None):\n",
    "    print(f'The accuracy of {model_name} is: {accuracy_score(actual_test, predictions_test)}')\n",
    "    if actual_train is not None and predictions_train is not None:\n",
    "        print(f'The accuracy of {model_name} on training set is: {accuracy_score(actual_train, predictions_train)}')\n",
    "    \n",
    "def printCVscore(model, X_train, y_train, cv=10):\n",
    "    score = np.mean(cross_validate(model, X_train, y_train, cv=cv)['test_score'])\n",
    "    print(f'The mean CV score using {cv}-fold coross validation is: {score}')\n",
    "    return score"
   ]
  },
  {
   "cell_type": "markdown",
   "metadata": {},
   "source": [
    "### Logistic regression"
   ]
  },
  {
   "cell_type": "code",
   "execution_count": 170,
   "metadata": {},
   "outputs": [
    {
     "data": {
      "text/plain": [
       "{'C': 0.7650505050505052}"
      ]
     },
     "execution_count": 170,
     "metadata": {},
     "output_type": "execute_result"
    }
   ],
   "source": [
    "param_grid = {'C' : np.linspace(0.01, 3, 100)}\n",
    "lg_grid_search = GridSearchCV(LogisticRegression(),param_grid = param_grid, cv = 10, n_jobs=-1)\n",
    "lg_grid_search.fit(X_train, y_train)\n",
    "lg_grid_search.best_params_"
   ]
  },
  {
   "cell_type": "code",
   "execution_count": 173,
   "metadata": {},
   "outputs": [
    {
     "name": "stdout",
     "output_type": "stream",
     "text": [
      "The accuracy of lg model is: 0.7204301075268817\n",
      "The accuracy of lg model on training set is: 0.8571428571428571\n",
      "The mean CV score using 10-fold coross validation is: 0.6660028449502133\n"
     ]
    }
   ],
   "source": [
    "lg_model = LogisticRegression(C=0.765)\n",
    "lg_model.fit(X_train, y_train)\n",
    "lg_Predicts = lg_model.predict(X_test)\n",
    "printAccruacy('lg model', y_test, lg_Predicts, y_train, lg_model.predict(X_train))\n",
    "score = printCVscore(lg_model, X_train, y_train, 10)"
   ]
  },
  {
   "cell_type": "markdown",
   "metadata": {},
   "source": [
    "### Rondom Forest and Pruning"
   ]
  },
  {
   "cell_type": "code",
   "execution_count": 174,
   "metadata": {},
   "outputs": [
    {
     "name": "stdout",
     "output_type": "stream",
     "text": [
      "# of features: 249\n"
     ]
    }
   ],
   "source": [
    "# print number of features in original dataset\n",
    "print('# of features:',final_df.shape[1])"
   ]
  },
  {
   "cell_type": "code",
   "execution_count": 175,
   "metadata": {},
   "outputs": [
    {
     "data": {
      "text/plain": [
       "{'n_estimators': [100, 200, 300, 400, 500, 600, 700, 800, 900, 1000],\n",
       " 'max_depth': [5, 10, 15, 20, 25, 30, 35, 40, 45, 50, 55, None],\n",
       " 'max_features': ['sqrt', 'log2'],\n",
       " 'criterion': ['gini', 'entropy'],\n",
       " 'min_samples_leaf': [1, 2, 4],\n",
       " 'min_samples_split': [2, 3, 4, 5, 6, 7, 8, 9, 10]}"
      ]
     },
     "execution_count": 175,
     "metadata": {},
     "output_type": "execute_result"
    }
   ],
   "source": [
    "# Number of trees in Random Forest\n",
    "rf_n_estimators = [int(x) for x in np.linspace(100, 1000, 10)]\n",
    "\n",
    "# Maximum number of levels in tree\n",
    "rf_max_depth = [int(x) for x in np.linspace(5, 55, 11)]\n",
    "# Add the default as a possible value\n",
    "rf_max_depth.append(None)\n",
    "\n",
    "# Number of features to consider at every split\n",
    "rf_max_features = ['sqrt', 'log2']\n",
    "\n",
    "# Criterion to split on\n",
    "rf_criterion = ['gini', 'entropy']\n",
    "\n",
    "# Minimum number of samples required to split a node\n",
    "rf_min_samples_split = [int(x) for x in np.linspace(2, 10, 9)]\n",
    "\n",
    "\n",
    "# # Method of selecting samples for training each tree\n",
    "# rf_bootstrap = [True, False]\n",
    "\n",
    "\n",
    "rf_min_samples_leaf = [1, 2, 4]\n",
    "# Create the grid\n",
    "rf_grid = {'n_estimators': rf_n_estimators,\n",
    "               'max_depth': rf_max_depth,\n",
    "               'max_features': rf_max_features,\n",
    "               'criterion': rf_criterion,\n",
    "               'min_samples_leaf': rf_min_samples_leaf,\n",
    "               'min_samples_split': rf_min_samples_split,\n",
    "               }\n",
    "rf_grid"
   ]
  },
  {
   "cell_type": "code",
   "execution_count": 176,
   "metadata": {},
   "outputs": [
    {
     "name": "stdout",
     "output_type": "stream",
     "text": [
      "Fitting 5 folds for each of 500 candidates, totalling 2500 fits\n"
     ]
    },
    {
     "data": {
      "text/plain": [
       "{'n_estimators': 400,\n",
       " 'min_samples_split': 6,\n",
       " 'min_samples_leaf': 1,\n",
       " 'max_features': 'log2',\n",
       " 'max_depth': 20,\n",
       " 'criterion': 'entropy'}"
      ]
     },
     "execution_count": 176,
     "metadata": {},
     "output_type": "execute_result"
    }
   ],
   "source": [
    "# Create the model to be tuned\n",
    "rf_base = RandomForestClassifier()\n",
    "\n",
    "# Create the random search Random Forest\n",
    "rf_random = RandomizedSearchCV(estimator = rf_base, param_distributions = rf_grid, scoring='f1',\n",
    "                               n_iter = 500, cv = 5, verbose = True, random_state = 2, \n",
    "                               n_jobs = -1)\n",
    "\n",
    "# Fit the random search model\n",
    "rf_random.fit(X_train, y_train)\n",
    "\n",
    "# View the best parameters from the random search\n",
    "rf_random.best_params_"
   ]
  },
  {
   "cell_type": "code",
   "execution_count": 177,
   "metadata": {},
   "outputs": [],
   "source": [
    "rf_model = RandomForestClassifier(n_estimators=400, \n",
    "                                            min_samples_split=6,\n",
    "                                            min_samples_leaf=1,\n",
    "                                            max_features='log2',\n",
    "                                            max_depth=20,\n",
    "                                            criterion='entropy'\n",
    "                                        ) \n",
    "# n_estimators=400, \n",
    "# min_samples_split=5,\n",
    "# min_impurity_decrease=0.0,\n",
    "# max_features='log2',\n",
    "# max_depth=15,\n",
    "# criterion='entropy',\n",
    "# bootstrap=True\n",
    "rf_model = rf_model.fit(X_train, y_train)\n",
    "rf_Predicts = rf_model.predict(X_test)"
   ]
  },
  {
   "cell_type": "code",
   "execution_count": 178,
   "metadata": {},
   "outputs": [
    {
     "name": "stdout",
     "output_type": "stream",
     "text": [
      "The accuracy of random forest is: 0.7204301075268817\n",
      "The accuracy of random forest on training set is: 0.889487870619946\n",
      "The mean CV score using 10-fold coross validation is: 0.6549786628733998\n"
     ]
    }
   ],
   "source": [
    "printAccruacy('random forest', y_test, rf_Predicts, y_train, rf_model.predict(X_train))\n",
    "socre = printCVscore(rf_model, X_train, y_train, 10)"
   ]
  },
  {
   "cell_type": "markdown",
   "metadata": {},
   "source": [
    "### SVM and Tunning"
   ]
  },
  {
   "cell_type": "code",
   "execution_count": 179,
   "metadata": {},
   "outputs": [],
   "source": [
    "C_range = np.logspace(-2, 10, 13)\n",
    "gamma_range = np.logspace(-9, 3, 13)"
   ]
  },
  {
   "cell_type": "code",
   "execution_count": 180,
   "metadata": {},
   "outputs": [
    {
     "data": {
      "text/plain": [
       "array([1.e-09, 1.e-08, 1.e-07, 1.e-06, 1.e-05, 1.e-04, 1.e-03, 1.e-02,\n",
       "       1.e-01, 1.e+00, 1.e+01, 1.e+02, 1.e+03])"
      ]
     },
     "execution_count": 180,
     "metadata": {},
     "output_type": "execute_result"
    }
   ],
   "source": [
    "gamma_range"
   ]
  },
  {
   "cell_type": "code",
   "execution_count": 194,
   "metadata": {},
   "outputs": [
    {
     "name": "stdout",
     "output_type": "stream",
     "text": [
      "Fitting 10 folds for each of 100 candidates, totalling 1000 fits\n"
     ]
    },
    {
     "data": {
      "text/plain": [
       "{'C': 1.7272727272727273}"
      ]
     },
     "execution_count": 194,
     "metadata": {},
     "output_type": "execute_result"
    }
   ],
   "source": [
    "Cs = np.linspace(1, 2, 100)\n",
    "svc_grid = {'C': Cs}\n",
    "\n",
    "svc_grid_search = GridSearchCV(SVC(kernel='rbf'), svc_grid, cv=10, n_jobs = -1, verbose = 2)\n",
    "svc_grid_search.fit(X_train, y_train)\n",
    "svc_grid_search.best_params_"
   ]
  },
  {
   "cell_type": "code",
   "execution_count": 196,
   "metadata": {},
   "outputs": [
    {
     "name": "stdout",
     "output_type": "stream",
     "text": [
      "The accuracy of SVC model is: 0.7311827956989247\n",
      "The accuracy of SVC model on training set is: 0.9568733153638814\n",
      "The mean CV score using 10-fold coross validation is: 0.6524893314367\n"
     ]
    }
   ],
   "source": [
    "svc_model = SVC(C=1.72727)\n",
    "svc_model.fit(X_train, y_train)\n",
    "svc_Predicts = svc_model.predict(X_test)\n",
    "printAccruacy('SVC model', y_test, svc_Predicts, y_train, svc_model.predict(X_train))\n",
    "socre = printCVscore(svc_model, X_train, y_train)"
   ]
  },
  {
   "cell_type": "markdown",
   "metadata": {},
   "source": [
    "### Bernoulli Naive Bayes"
   ]
  },
  {
   "cell_type": "code",
   "execution_count": 200,
   "metadata": {},
   "outputs": [
    {
     "name": "stdout",
     "output_type": "stream",
     "text": [
      "Fitting 10 folds for each of 100 candidates, totalling 1000 fits\n"
     ]
    },
    {
     "data": {
      "text/plain": [
       "{'alpha': 0.297979797979798}"
      ]
     },
     "execution_count": 200,
     "metadata": {},
     "output_type": "execute_result"
    }
   ],
   "source": [
    "params = {'alpha': np.linspace(0.1, 0.5, 100)\n",
    "         }\n",
    "\n",
    "bernoulli_nb_grid = GridSearchCV(BernoulliNB(), param_grid=params, n_jobs=-1, cv=10, verbose=5)\n",
    "bernoulli_nb_grid.fit(X_train,y_train)\n",
    "bernoulli_nb_grid.best_params_"
   ]
  },
  {
   "cell_type": "code",
   "execution_count": 201,
   "metadata": {},
   "outputs": [
    {
     "name": "stdout",
     "output_type": "stream",
     "text": [
      "The accuracy of NB model is: 0.7526881720430108\n",
      "The accuracy of NB model on training set is: 0.8194070080862533\n",
      "The mean CV score using 10-fold coross validation is: 0.6605263157894737\n"
     ]
    }
   ],
   "source": [
    "nb_model = BernoulliNB(alpha=0.29797979)\n",
    "nb_model.fit(X_train, y_train)\n",
    "nb_Predicts = nb_model.predict(X_test)\n",
    "printAccruacy('NB model', y_test, nb_Predicts, y_train, nb_model.predict(X_train))\n",
    "score = printCVscore(nb_model, X_train, y_train)"
   ]
  },
  {
   "cell_type": "markdown",
   "metadata": {},
   "source": [
    "# Model Evaluation\n",
    "<hr />"
   ]
  },
  {
   "cell_type": "markdown",
   "metadata": {},
   "source": [
    "### Percison, recall, f1-socre, accuracy"
   ]
  },
  {
   "cell_type": "code",
   "execution_count": 202,
   "metadata": {},
   "outputs": [],
   "source": [
    "def printReport(model_name, actual_test, predictions_test):\n",
    "    print(f'For {model_name}:')\n",
    "    print('-----------------------------------------------------')\n",
    "    print(classification_report(actual_test, predictions_test, digits=4))"
   ]
  },
  {
   "cell_type": "code",
   "execution_count": 203,
   "metadata": {},
   "outputs": [
    {
     "name": "stdout",
     "output_type": "stream",
     "text": [
      "For logisitc Regression:\n",
      "-----------------------------------------------------\n",
      "              precision    recall  f1-score   support\n",
      "\n",
      "           0     0.6809    0.7442    0.7111        43\n",
      "           1     0.7609    0.7000    0.7292        50\n",
      "\n",
      "    accuracy                         0.7204        93\n",
      "   macro avg     0.7209    0.7221    0.7201        93\n",
      "weighted avg     0.7239    0.7204    0.7208        93\n",
      "\n",
      "For Random Forest:\n",
      "-----------------------------------------------------\n",
      "              precision    recall  f1-score   support\n",
      "\n",
      "           0     0.6809    0.7442    0.7111        43\n",
      "           1     0.7609    0.7000    0.7292        50\n",
      "\n",
      "    accuracy                         0.7204        93\n",
      "   macro avg     0.7209    0.7221    0.7201        93\n",
      "weighted avg     0.7239    0.7204    0.7208        93\n",
      "\n",
      "For SVC:\n",
      "-----------------------------------------------------\n",
      "              precision    recall  f1-score   support\n",
      "\n",
      "           0     0.7045    0.7209    0.7126        43\n",
      "           1     0.7551    0.7400    0.7475        50\n",
      "\n",
      "    accuracy                         0.7312        93\n",
      "   macro avg     0.7298    0.7305    0.7301        93\n",
      "weighted avg     0.7317    0.7312    0.7314        93\n",
      "\n",
      "For Naive Bayes:\n",
      "-----------------------------------------------------\n",
      "              precision    recall  f1-score   support\n",
      "\n",
      "           0     0.7381    0.7209    0.7294        43\n",
      "           1     0.7647    0.7800    0.7723        50\n",
      "\n",
      "    accuracy                         0.7527        93\n",
      "   macro avg     0.7514    0.7505    0.7508        93\n",
      "weighted avg     0.7524    0.7527    0.7525        93\n",
      "\n"
     ]
    }
   ],
   "source": [
    "# evaluate lg_model, rf_model，svc_model, nb_model\n",
    "printReport('logisitc Regression', y_test, lg_Predicts)\n",
    "printReport('Random Forest', y_test, rf_Predicts)\n",
    "printReport('SVC', y_test, svc_Predicts)\n",
    "printReport('Naive Bayes', y_test, nb_Predicts)"
   ]
  },
  {
   "cell_type": "markdown",
   "metadata": {},
   "source": [
    "### ROC and AUC"
   ]
  },
  {
   "cell_type": "code",
   "execution_count": 204,
   "metadata": {},
   "outputs": [
    {
     "data": {
      "image/png": "[encoded data removed]",
      "text/plain": [
       "<Figure size 792x360 with 2 Axes>"
      ]
     },
     "metadata": {
      "needs_background": "light"
     },
     "output_type": "display_data"
    }
   ],
   "source": [
    "N_SAMPLES = 1000\n",
    "\n",
    "classifiers = {\n",
    "    \"SVM\": svc_model,\n",
    "    \"Random Forest\": rf_model,\n",
    "    \"Logistic Regression\": lg_model,\n",
    "    \"Navie Bayes\": nb_model\n",
    "}\n",
    "\n",
    "fig, [ax_roc, ax_det] = plt.subplots(1, 2, figsize=(11, 5))\n",
    "\n",
    "for name, clf in classifiers.items():\n",
    "    clf.fit(X_train, y_train)\n",
    "\n",
    "    plot_roc_curve(clf, X_test, y_test, ax=ax_roc, name=name)\n",
    "    plot_det_curve(clf, X_test, y_test, ax=ax_det, name=name)\n",
    "\n",
    "ax_roc.set_title('Receiver Operating Characteristic (ROC) curves')\n",
    "ax_det.set_title('Detection Error Tradeoff (DET) curves')\n",
    "\n",
    "ax_roc.grid(linestyle='--')\n",
    "ax_det.grid(linestyle='--')\n",
    "\n",
    "plt.legend()\n",
    "plt.show()"
   ]
  },
  {
   "cell_type": "markdown",
   "metadata": {},
   "source": [
    "## Pickle Models"
   ]
  },
  {
   "cell_type": "code",
   "execution_count": 211,
   "metadata": {},
   "outputs": [],
   "source": [
    "models = {'lg_model': lg_model, 'rf_model': rf_model, 'svc_model': svc_model, 'nb_model': nb_model}\n",
    "info = {'df': final_df, 'models': models}\n",
    "\n",
    "with open(\"./fl_mg_final_info.pickle\",\"wb\") as f:\n",
    "    pickle.dump(info, f)"
   ]
  }
 ],
 "metadata": {
  "kernelspec": {
   "display_name": "Python 3",
   "language": "python",
   "name": "python3"
  },
  "language_info": {
   "codemirror_mode": {
    "name": "ipython",
    "version": 3
   },
   "file_extension": ".py",
   "mimetype": "text/x-python",
   "name": "python",
   "nbconvert_exporter": "python",
   "pygments_lexer": "ipython3",
   "version": "3.8.3"
  }
 },
 "nbformat": 4,
 "nbformat_minor": 4
}
