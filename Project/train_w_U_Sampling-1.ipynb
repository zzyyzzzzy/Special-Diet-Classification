{
 "cells": [
  {
   "cell_type": "code",
   "execution_count": 48,
   "metadata": {},
   "outputs": [],
   "source": [
    "import pandas as pd\n",
    "import numpy as np\n",
    "import pandas as pd\n",
    "from sklearn.model_selection import train_test_split\n",
    "from sklearn.svm import SVC\n",
    "from sklearn import metrics\n",
    "import matplotlib.pyplot as plt\n",
    "from imblearn.under_sampling import RandomUnderSampler\n",
    "from sklearn.tree import DecisionTreeClassifier\n",
    "from numpy import mean\n",
    "from sklearn.ensemble import RandomForestClassifier \n",
    "from sklearn.model_selection import cross_val_score\n",
    "from sklearn.model_selection import RepeatedStratifiedKFold\n",
    "from imblearn.pipeline import Pipeline\n",
    "from sklearn.naive_bayes import GaussianNB\n",
    "from sklearn.linear_model import LogisticRegression\n",
    "from sklearn.metrics import balanced_accuracy_score\n",
    "\n",
    "import matplotlib.pyplot as plt\n",
    "\n",
    "from sklearn.datasets import make_classification\n",
    "from sklearn.ensemble import RandomForestClassifier\n",
    "from sklearn.metrics import plot_det_curve\n",
    "from sklearn.metrics import plot_roc_curve\n",
    "from sklearn.model_selection import train_test_split\n",
    "from sklearn.pipeline import make_pipeline\n",
    "from sklearn.preprocessing import StandardScaler\n",
    "\n",
    "df_recipes = pd.read_csv('../dataset/recipes.csv')"
   ]
  },
  {
   "cell_type": "code",
   "execution_count": 49,
   "metadata": {},
   "outputs": [],
   "source": [
    "add_col = ['carbohydrate_p','protein_p','fat_p']\n",
    "map_to_col = ['carbohydrate','protein','fat']\n",
    "\n",
    "# Protein - 4 calories per gram\n",
    "# Fats - 9 calories per gram\n",
    "# Carbs - 4 calories per gram\n",
    "macronutrient_basics = [4,4,9]\n",
    "\n",
    "for i in range(3):\n",
    "    df_recipes[add_col[i]] = ((df_recipes[map_to_col[i]]*macronutrient_basics[i]/df_recipes['calories'])*100)"
   ]
  },
  {
   "cell_type": "code",
   "execution_count": 50,
   "metadata": {},
   "outputs": [
    {
     "data": {
      "text/html": [
       "<div>\n",
       "<style scoped>\n",
       "    .dataframe tbody tr th:only-of-type {\n",
       "        vertical-align: middle;\n",
       "    }\n",
       "\n",
       "    .dataframe tbody tr th {\n",
       "        vertical-align: top;\n",
       "    }\n",
       "\n",
       "    .dataframe thead th {\n",
       "        text-align: right;\n",
       "    }\n",
       "</style>\n",
       "<table border=\"1\" class=\"dataframe\">\n",
       "  <thead>\n",
       "    <tr style=\"text-align: right;\">\n",
       "      <th></th>\n",
       "      <th>recipe_id</th>\n",
       "      <th>recipe_name</th>\n",
       "      <th>calories</th>\n",
       "      <th>carbohydrate</th>\n",
       "      <th>fat</th>\n",
       "      <th>protein</th>\n",
       "      <th>carbohydrate_p</th>\n",
       "      <th>protein_p</th>\n",
       "      <th>fat_p</th>\n",
       "    </tr>\n",
       "  </thead>\n",
       "  <tbody>\n",
       "    <tr>\n",
       "      <th>0</th>\n",
       "      <td>45430986</td>\n",
       "      <td>Gluten-Free Rolls</td>\n",
       "      <td>177</td>\n",
       "      <td>31.06</td>\n",
       "      <td>4.62</td>\n",
       "      <td>3.00</td>\n",
       "      <td>70.192090</td>\n",
       "      <td>6.779661</td>\n",
       "      <td>23.491525</td>\n",
       "    </tr>\n",
       "    <tr>\n",
       "      <th>1</th>\n",
       "      <td>42818205</td>\n",
       "      <td>French Fries</td>\n",
       "      <td>203</td>\n",
       "      <td>39.29</td>\n",
       "      <td>3.74</td>\n",
       "      <td>4.75</td>\n",
       "      <td>77.418719</td>\n",
       "      <td>9.359606</td>\n",
       "      <td>16.581281</td>\n",
       "    </tr>\n",
       "    <tr>\n",
       "      <th>2</th>\n",
       "      <td>42384638</td>\n",
       "      <td>Chicken Stir Fry</td>\n",
       "      <td>306</td>\n",
       "      <td>39.22</td>\n",
       "      <td>8.51</td>\n",
       "      <td>20.00</td>\n",
       "      <td>51.267974</td>\n",
       "      <td>26.143791</td>\n",
       "      <td>25.029412</td>\n",
       "    </tr>\n",
       "    <tr>\n",
       "      <th>3</th>\n",
       "      <td>42288128</td>\n",
       "      <td>Black Bean Salsa</td>\n",
       "      <td>110</td>\n",
       "      <td>13.69</td>\n",
       "      <td>4.77</td>\n",
       "      <td>4.59</td>\n",
       "      <td>49.781818</td>\n",
       "      <td>16.690909</td>\n",
       "      <td>39.027273</td>\n",
       "    </tr>\n",
       "    <tr>\n",
       "      <th>4</th>\n",
       "      <td>8629075</td>\n",
       "      <td>Taco Soup</td>\n",
       "      <td>192</td>\n",
       "      <td>18.09</td>\n",
       "      <td>6.88</td>\n",
       "      <td>12.70</td>\n",
       "      <td>37.687500</td>\n",
       "      <td>26.458333</td>\n",
       "      <td>32.250000</td>\n",
       "    </tr>\n",
       "    <tr>\n",
       "      <th>...</th>\n",
       "      <td>...</td>\n",
       "      <td>...</td>\n",
       "      <td>...</td>\n",
       "      <td>...</td>\n",
       "      <td>...</td>\n",
       "      <td>...</td>\n",
       "      <td>...</td>\n",
       "      <td>...</td>\n",
       "      <td>...</td>\n",
       "    </tr>\n",
       "    <tr>\n",
       "      <th>3360</th>\n",
       "      <td>70</td>\n",
       "      <td>Asian Coleslaw</td>\n",
       "      <td>446</td>\n",
       "      <td>45.59</td>\n",
       "      <td>24.78</td>\n",
       "      <td>16.14</td>\n",
       "      <td>40.887892</td>\n",
       "      <td>14.475336</td>\n",
       "      <td>50.004484</td>\n",
       "    </tr>\n",
       "    <tr>\n",
       "      <th>3361</th>\n",
       "      <td>63</td>\n",
       "      <td>Stir-Fried Beef and Potatoes</td>\n",
       "      <td>336</td>\n",
       "      <td>22.04</td>\n",
       "      <td>16.10</td>\n",
       "      <td>25.12</td>\n",
       "      <td>26.238095</td>\n",
       "      <td>29.904762</td>\n",
       "      <td>43.125000</td>\n",
       "    </tr>\n",
       "    <tr>\n",
       "      <th>3362</th>\n",
       "      <td>52</td>\n",
       "      <td>Beef and Bean Chilli</td>\n",
       "      <td>286</td>\n",
       "      <td>14.94</td>\n",
       "      <td>14.66</td>\n",
       "      <td>23.65</td>\n",
       "      <td>20.895105</td>\n",
       "      <td>33.076923</td>\n",
       "      <td>46.132867</td>\n",
       "    </tr>\n",
       "    <tr>\n",
       "      <th>3363</th>\n",
       "      <td>47</td>\n",
       "      <td>Mexican Pozole</td>\n",
       "      <td>227</td>\n",
       "      <td>11.72</td>\n",
       "      <td>10.94</td>\n",
       "      <td>19.60</td>\n",
       "      <td>20.651982</td>\n",
       "      <td>34.537445</td>\n",
       "      <td>43.374449</td>\n",
       "    </tr>\n",
       "    <tr>\n",
       "      <th>3364</th>\n",
       "      <td>46</td>\n",
       "      <td>Meatball Soup</td>\n",
       "      <td>154</td>\n",
       "      <td>18.60</td>\n",
       "      <td>3.00</td>\n",
       "      <td>15.26</td>\n",
       "      <td>48.311688</td>\n",
       "      <td>39.636364</td>\n",
       "      <td>17.532468</td>\n",
       "    </tr>\n",
       "  </tbody>\n",
       "</table>\n",
       "<p>3365 rows × 9 columns</p>\n",
       "</div>"
      ],
      "text/plain": [
       "      recipe_id                   recipe_name  calories  carbohydrate    fat  \\\n",
       "0      45430986             Gluten-Free Rolls       177         31.06   4.62   \n",
       "1      42818205                  French Fries       203         39.29   3.74   \n",
       "2      42384638              Chicken Stir Fry       306         39.22   8.51   \n",
       "3      42288128              Black Bean Salsa       110         13.69   4.77   \n",
       "4       8629075                     Taco Soup       192         18.09   6.88   \n",
       "...         ...                           ...       ...           ...    ...   \n",
       "3360         70                Asian Coleslaw       446         45.59  24.78   \n",
       "3361         63  Stir-Fried Beef and Potatoes       336         22.04  16.10   \n",
       "3362         52          Beef and Bean Chilli       286         14.94  14.66   \n",
       "3363         47                Mexican Pozole       227         11.72  10.94   \n",
       "3364         46                 Meatball Soup       154         18.60   3.00   \n",
       "\n",
       "      protein  carbohydrate_p  protein_p      fat_p  \n",
       "0        3.00       70.192090   6.779661  23.491525  \n",
       "1        4.75       77.418719   9.359606  16.581281  \n",
       "2       20.00       51.267974  26.143791  25.029412  \n",
       "3        4.59       49.781818  16.690909  39.027273  \n",
       "4       12.70       37.687500  26.458333  32.250000  \n",
       "...       ...             ...        ...        ...  \n",
       "3360    16.14       40.887892  14.475336  50.004484  \n",
       "3361    25.12       26.238095  29.904762  43.125000  \n",
       "3362    23.65       20.895105  33.076923  46.132867  \n",
       "3363    19.60       20.651982  34.537445  43.374449  \n",
       "3364    15.26       48.311688  39.636364  17.532468  \n",
       "\n",
       "[3365 rows x 9 columns]"
      ]
     },
     "execution_count": 50,
     "metadata": {},
     "output_type": "execute_result"
    }
   ],
   "source": [
    "df_recipes"
   ]
  },
  {
   "cell_type": "code",
   "execution_count": 51,
   "metadata": {},
   "outputs": [
    {
     "name": "stderr",
     "output_type": "stream",
     "text": [
      "/anaconda3/lib/python3.7/site-packages/pandas/core/indexing.py:671: SettingWithCopyWarning: \n",
      "A value is trying to be set on a copy of a slice from a DataFrame\n",
      "\n",
      "See the caveats in the documentation: https://pandas.pydata.org/pandas-docs/stable/user_guide/indexing.html#returning-a-view-versus-a-copy\n",
      "  self._setitem_with_indexer(indexer, value)\n"
     ]
    }
   ],
   "source": [
    "\"\"\"\n",
    "Label Keto\n",
    "\"\"\"\n",
    "# 1 = Keto Diet \n",
    "# 0 = not Keto Diet \n",
    "df_recipes['label_keto'] = 0\n",
    "c = df_recipes['carbohydrate_p']\n",
    "p = df_recipes['protein_p']\n",
    "f = df_recipes['fat_p']\n",
    "label = df_recipes['label_keto']\n",
    "for i in range(df_recipes.shape[0]):\n",
    "#     if  f.loc[i] >= 70 and c.loc[i] <= 10:\n",
    "#         label.loc[i] = 1\n",
    "    if  f.loc[i] >= 15 and  f.loc[i] <= 30 and p.loc[i] >= 35:\n",
    "            label.loc[i] = 1\n",
    "\n",
    "df_recipes_keto = df_recipes[['recipe_id','label_keto']]"
   ]
  },
  {
   "cell_type": "code",
   "execution_count": 52,
   "metadata": {},
   "outputs": [
    {
     "data": {
      "text/plain": [
       "263"
      ]
     },
     "execution_count": 52,
     "metadata": {},
     "output_type": "execute_result"
    }
   ],
   "source": [
    "len(df_recipes_keto[df_recipes_keto['label_keto'] ==1])"
   ]
  },
  {
   "cell_type": "code",
   "execution_count": 53,
   "metadata": {},
   "outputs": [],
   "source": [
    "df_recipe_with_ingredient =  pd.read_csv('../dataset/recipe_with_ingredient.csv')\n",
    "df_recipe_with_ingredient.rename({'Unnamed: 0':'recipe_id'}, axis='columns', inplace = True)\n",
    "\n",
    "join_recipe_w_label = df_recipe_with_ingredient.set_index('recipe_id').join(df_recipes_keto.set_index('recipe_id'))\n",
    "features = [x for x in join_recipe_w_label.columns[0:-1]]"
   ]
  },
  {
   "cell_type": "code",
   "execution_count": 54,
   "metadata": {},
   "outputs": [],
   "source": [
    "p_sample = join_recipe_w_label[join_recipe_w_label['label_keto'] == 1]\n",
    "n_sample = join_recipe_w_label[join_recipe_w_label.label_keto == 0]\n",
    "n_sample_rand = n_sample.sample(n =round(1.16*len(p_sample)))\n",
    "X = pd.concat([p_sample, n_sample_rand])\n",
    "y =  X[['label_keto']]\n",
    "X_ = X[features]\n",
    "x_train, x_test, y_train, y_test = train_test_split(X_,y, test_size=0.15,random_state=0)\n",
    "\n",
    "# print(f'''% Positive class in Train = {np.round(y_train.value_counts(normalize=True)[1] * 100, 2)}\n",
    "# % Positive class in Test  = {np.round(y_test.value_counts(normalize=True)[1] * 100, 2)}''')"
   ]
  },
  {
   "cell_type": "code",
   "execution_count": 55,
   "metadata": {},
   "outputs": [
    {
     "name": "stdout",
     "output_type": "stream",
     "text": [
      "Before feature selection:\n"
     ]
    },
    {
     "name": "stderr",
     "output_type": "stream",
     "text": [
      "/Users/alice/.local/lib/python3.7/site-packages/sklearn/utils/validation.py:63: DataConversionWarning: A column-vector y was passed when a 1d array was expected. Please change the shape of y to (n_samples, ), for example using ravel().\n",
      "  return f(*args, **kwargs)\n"
     ]
    },
    {
     "name": "stdout",
     "output_type": "stream",
     "text": [
      "SVM:\n",
      "               precision    recall  f1-score   support\n",
      "\n",
      "           0       0.62      0.87      0.73        46\n",
      "           1       0.73      0.40      0.52        40\n",
      "\n",
      "    accuracy                           0.65        86\n",
      "   macro avg       0.68      0.63      0.62        86\n",
      "weighted avg       0.67      0.65      0.63        86\n",
      "\n",
      "0.6347826086956522\n"
     ]
    },
    {
     "name": "stderr",
     "output_type": "stream",
     "text": [
      "/anaconda3/lib/python3.7/site-packages/ipykernel_launcher.py:13: DataConversionWarning: A column-vector y was passed when a 1d array was expected. Please change the shape of y to (n_samples,), for example using ravel().\n",
      "  del sys.path[0]\n"
     ]
    },
    {
     "name": "stdout",
     "output_type": "stream",
     "text": [
      "RF:\n",
      "               precision    recall  f1-score   support\n",
      "\n",
      "           0       0.64      0.91      0.75        46\n",
      "           1       0.80      0.40      0.53        40\n",
      "\n",
      "    accuracy                           0.67        86\n",
      "   macro avg       0.72      0.66      0.64        86\n",
      "weighted avg       0.71      0.67      0.65        86\n",
      "\n",
      "0.6565217391304348\n",
      "LR:\n",
      "               precision    recall  f1-score   support\n",
      "\n",
      "           0       0.65      0.80      0.72        46\n",
      "           1       0.69      0.50      0.58        40\n",
      "\n",
      "    accuracy                           0.66        86\n",
      "   macro avg       0.67      0.65      0.65        86\n",
      "weighted avg       0.67      0.66      0.65        86\n",
      "\n",
      "NB:\n",
      "               precision    recall  f1-score   support\n",
      "\n",
      "           0       0.57      0.26      0.36        46\n",
      "           1       0.48      0.78      0.59        40\n",
      "\n",
      "    accuracy                           0.50        86\n",
      "   macro avg       0.52      0.52      0.47        86\n",
      "weighted avg       0.53      0.50      0.47        86\n",
      "\n"
     ]
    },
    {
     "name": "stderr",
     "output_type": "stream",
     "text": [
      "/Users/alice/.local/lib/python3.7/site-packages/sklearn/utils/validation.py:63: DataConversionWarning: A column-vector y was passed when a 1d array was expected. Please change the shape of y to (n_samples, ), for example using ravel().\n",
      "  return f(*args, **kwargs)\n",
      "/Users/alice/.local/lib/python3.7/site-packages/sklearn/utils/validation.py:63: DataConversionWarning: A column-vector y was passed when a 1d array was expected. Please change the shape of y to (n_samples, ), for example using ravel().\n",
      "  return f(*args, **kwargs)\n"
     ]
    }
   ],
   "source": [
    "print('Before feature selection:')\n",
    "SupportVectorClassModel = SVC()\n",
    "SupportVectorClassModel.fit(x_train,y_train)\n",
    "y_pred = SupportVectorClassModel.predict(x_test)\n",
    "# accuracy = accuracy_score(y_test,y_pred)*100\n",
    "print('SVM:\\n',metrics.classification_report(y_test,y_pred))\n",
    "print(balanced_accuracy_score(y_test, y_pred))\n",
    "\n",
    "# example of evaluating a decision tree with random undersampling\n",
    "RandomForestClassifierModel = RandomForestClassifier()\n",
    "# rf = RandomForestClassifier(n_estimators = 180, max_depth=16, min_samples_split=16, random_state=0)\n",
    "rf = RandomForestClassifier()\n",
    "rf.fit(x_train,y_train)\n",
    "y_pred_rf = rf.predict(x_test)\n",
    "# accuracy = accuracy_score(y_test,y_pred)*100\n",
    "print('RF:\\n',metrics.classification_report(y_test,y_pred_rf))\n",
    "print(balanced_accuracy_score(y_test, y_pred_rf))\n",
    "feature_impotantce_list= rf.feature_importances_\n",
    "\n",
    "# logistic regression \n",
    "# lr = LogisticRegression(max_iter =200, warm_start = True, random_state = 0)\n",
    "lr = LogisticRegression()\n",
    "lr.fit(x_train,y_train)\n",
    "y_pred_lr = lr.predict(x_test)\n",
    "# accuracy = accuracy_score(y_test,y_pred)*100\n",
    "print('LR:\\n',metrics.classification_report(y_test,y_pred_lr))\n",
    "\n",
    "# Naive Bayes \n",
    "nb = GaussianNB()\n",
    "nb.fit(x_train,y_train)\n",
    "y_pred_nb = nb.predict(x_test)\n",
    "# accuracy = accuracy_score(y_test,y_pred)*100\n",
    "print('NB:\\n',metrics.classification_report(y_test,y_pred_nb))"
   ]
  },
  {
   "cell_type": "code",
   "execution_count": 47,
   "metadata": {},
   "outputs": [
    {
     "name": "stdout",
     "output_type": "stream",
     "text": [
      "SVM:\n",
      "               precision    recall  f1-score   support\n",
      "\n",
      "           0       0.94      0.98      0.96       259\n",
      "           1       0.98      0.92      0.95       223\n",
      "\n",
      "    accuracy                           0.95       482\n",
      "   macro avg       0.96      0.95      0.95       482\n",
      "weighted avg       0.96      0.95      0.95       482\n",
      "\n",
      "RF:\n",
      "               precision    recall  f1-score   support\n",
      "\n",
      "           0       0.77      0.97      0.86       259\n",
      "           1       0.95      0.67      0.78       223\n",
      "\n",
      "    accuracy                           0.83       482\n",
      "   macro avg       0.86      0.82      0.82       482\n",
      "weighted avg       0.85      0.83      0.82       482\n",
      "\n",
      "LR:\n",
      "               precision    recall  f1-score   support\n",
      "\n",
      "           0       0.98      0.97      0.98       259\n",
      "           1       0.96      0.98      0.97       223\n",
      "\n",
      "    accuracy                           0.98       482\n",
      "   macro avg       0.97      0.98      0.97       482\n",
      "weighted avg       0.98      0.98      0.98       482\n",
      "\n"
     ]
    }
   ],
   "source": [
    "print('SVM:\\n',metrics.classification_report(y_train,SupportVectorClassModel.predict(x_train)))\n",
    "print('RF:\\n',metrics.classification_report(y_train,rf.predict(x_train)))\n",
    "print('LR:\\n',metrics.classification_report(y_train,lr.predict(x_train)))\n"
   ]
  },
  {
   "cell_type": "code",
   "execution_count": 9,
   "metadata": {},
   "outputs": [
    {
     "name": "stderr",
     "output_type": "stream",
     "text": [
      "/Users/alice/.local/lib/python3.7/site-packages/sklearn/utils/validation.py:63: DataConversionWarning: A column-vector y was passed when a 1d array was expected. Please change the shape of y to (n_samples, ), for example using ravel().\n",
      "  return f(*args, **kwargs)\n",
      "/anaconda3/lib/python3.7/site-packages/ipykernel_launcher.py:21: DataConversionWarning: A column-vector y was passed when a 1d array was expected. Please change the shape of y to (n_samples,), for example using ravel().\n",
      "/Users/alice/.local/lib/python3.7/site-packages/sklearn/utils/validation.py:63: DataConversionWarning: A column-vector y was passed when a 1d array was expected. Please change the shape of y to (n_samples, ), for example using ravel().\n",
      "  return f(*args, **kwargs)\n",
      "/Users/alice/.local/lib/python3.7/site-packages/sklearn/utils/validation.py:63: DataConversionWarning: A column-vector y was passed when a 1d array was expected. Please change the shape of y to (n_samples, ), for example using ravel().\n",
      "  return f(*args, **kwargs)\n"
     ]
    },
    {
     "data": {
      "image/png": "[encoded data removed]",
      "text/plain": [
       "<Figure size 792x360 with 2 Axes>"
      ]
     },
     "metadata": {
      "needs_background": "light"
     },
     "output_type": "display_data"
    },
    {
     "data": {
      "image/png": "[encoded data removed]",
      "text/plain": [
       "<Figure size 576x432 with 2 Axes>"
      ]
     },
     "metadata": {
      "needs_background": "light"
     },
     "output_type": "display_data"
    },
    {
     "data": {
      "image/png": "[encoded data removed]",
      "text/plain": [
       "<Figure size 576x432 with 2 Axes>"
      ]
     },
     "metadata": {
      "needs_background": "light"
     },
     "output_type": "display_data"
    },
    {
     "data": {
      "image/png": "[encoded data removed]",
      "text/plain": [
       "<Figure size 576x432 with 2 Axes>"
      ]
     },
     "metadata": {
      "needs_background": "light"
     },
     "output_type": "display_data"
    },
    {
     "data": {
      "image/png": "[encoded data removed]",
      "text/plain": [
       "<Figure size 576x432 with 2 Axes>"
      ]
     },
     "metadata": {
      "needs_background": "light"
     },
     "output_type": "display_data"
    }
   ],
   "source": [
    "N_SAMPLES = 1000\n",
    "\n",
    "classifiers = {\n",
    "    \"SVM\": SVC(),\n",
    "    \"Random Forest\": RandomForestClassifier(n_estimators = 180, max_depth=16, min_samples_split=16, random_state=0),\n",
    "    \"Logistic Regression\": LogisticRegression(random_state = 0),\n",
    "    \"Navie Bayes\": GaussianNB()\n",
    "}\n",
    "\n",
    "# X, y = make_classification(\n",
    "#     n_samples=N_SAMPLES, n_features=2, n_redundant=0, n_informative=2,\n",
    "#     random_state=1, n_clusters_per_class=1)\n",
    "\n",
    "# X_train, X_test, y_train, y_test = train_test_split(\n",
    "#     X, y, test_size=.4, random_state=0)\n",
    "\n",
    "# prepare plots\n",
    "fig, [ax_roc, ax_det] = plt.subplots(1, 2, figsize=(11, 5))\n",
    "\n",
    "for name, clf in classifiers.items():\n",
    "    clf.fit(x_train, y_train)\n",
    "\n",
    "    plot_roc_curve(clf, x_test, y_test, ax=ax_roc, name=name)\n",
    "    plot_det_curve(clf, x_test, y_test, ax=ax_det, name=name)\n",
    "\n",
    "ax_roc.set_title('Receiver Operating Characteristic (ROC) curves')\n",
    "ax_det.set_title('Detection Error Tradeoff (DET) curves')\n",
    "\n",
    "ax_roc.grid(linestyle='--')\n",
    "ax_det.grid(linestyle='--')\n",
    "\n",
    "plt.legend()\n",
    "plt.show()\n",
    "\n",
    "from sklearn.metrics import confusion_matrix\n",
    "from sklearn.metrics import ConfusionMatrixDisplay\n",
    "import seaborn as sns\n",
    "\n",
    "for name, clf in classifiers.items():\n",
    "    y_pred = clf.predict(x_test)\n",
    "    cm = confusion_matrix(y_test, y_pred)\n",
    "    plt.figure(figsize=(8, 6))\n",
    "    plt.title(f'{name} Confusion Matrix', size=16)\n",
    "    sns.heatmap(cm, annot=True, cmap='Blues');\n",
    "\n",
    "plt.show()"
   ]
  },
  {
   "cell_type": "code",
   "execution_count": 10,
   "metadata": {},
   "outputs": [
    {
     "data": {
      "text/plain": [
       "584"
      ]
     },
     "execution_count": 10,
     "metadata": {},
     "output_type": "execute_result"
    }
   ],
   "source": [
    "# feature selection\n",
    "important_feature = []\n",
    "for i, num in enumerate(feature_impotantce_list):\n",
    "    if num >= 0.0001:\n",
    "        important_feature.append(i)\n",
    "important_feature_convert = [features[i] for i in important_feature ]\n",
    "len(important_feature)"
   ]
  },
  {
   "cell_type": "code",
   "execution_count": null,
   "metadata": {},
   "outputs": [],
   "source": [
    "# transoform\n",
    "X_fs = X[important_feature_convert]\n",
    "y =  X[['label_keto']]\n",
    "x_train, x_test, y_train, y_test = train_test_split(X_fs,y, test_size=0.25, random_state=42)\n",
    "print('After feature selection:\\n\\n')\n",
    "\n",
    "# Retrain\n",
    "SupportVectorClassModel = SVC()\n",
    "SupportVectorClassModel.fit(x_train,y_train)\n",
    "y_pred = SupportVectorClassModel.predict(x_test)\n",
    "# accuracy = accuracy_score(y_test,y_pred)*100\n",
    "print('SVM:\\n',metrics.classification_report(y_test,y_pred))\n",
    "\n",
    "rf = RandomForestClassifier(n_estimators = 160, max_depth=12, min_samples_split=26, random_state=0)\n",
    "rf.fit(x_train,y_train)\n",
    "y_pred_rf = rf.predict(x_test)\n",
    "# accuracy = accuracy_score(y_test,y_pred)*100\n",
    "print('\\n\\nRF:\\n',metrics.classification_report(y_test,y_pred_rf))\n",
    "feature_impotantce_list= rf.feature_importances_\n",
    "\n",
    "# logistic regression \n",
    "lr = LogisticRegression(random_state = 0)\n",
    "lr.fit(x_train,y_train)\n",
    "y_pred_lr = lr.predict(x_test)\n",
    "# accuracy = accuracy_score(y_test,y_pred)*100\n",
    "print('LR:\\n',metrics.classification_report(y_test,y_pred_lr))\n",
    "\n",
    "\n",
    "# Naive Bayes \n",
    "nb = GaussianNB()\n",
    "nb.fit(x_train,y_train)\n",
    "y_pred_nb = nb.predict(x_test)\n",
    "# accuracy = accuracy_score(y_test,y_pred)*100\n",
    "print('NB:\\n',metrics.classification_report(y_test,y_pred_nb))"
   ]
  },
  {
   "cell_type": "code",
   "execution_count": null,
   "metadata": {},
   "outputs": [],
   "source": [
    "import matplotlib.pyplot as plt\n",
    "\n",
    "from sklearn.datasets import make_classification\n",
    "from sklearn.ensemble import RandomForestClassifier\n",
    "from sklearn.metrics import plot_det_curve\n",
    "from sklearn.metrics import plot_roc_curve\n",
    "from sklearn.model_selection import train_test_split\n",
    "from sklearn.pipeline import make_pipeline\n",
    "from sklearn.preprocessing import StandardScaler\n",
    "from sklearn.svm import LinearSVC"
   ]
  },
  {
   "cell_type": "code",
   "execution_count": null,
   "metadata": {},
   "outputs": [],
   "source": [
    "N_SAMPLES = 1000\n",
    "\n",
    "classifiers = {\n",
    "    \"SVM\": SVC(),\n",
    "    \"Random Forest\": RandomForestClassifier(n_estimators = 160, max_depth=12, min_samples_split=26, random_state=0),\n",
    "    \"Logistic Regression\": LogisticRegression(random_state = 0),\n",
    "    \"Navie Bayes\": GaussianNB()\n",
    "}\n",
    "\n",
    "# X, y = make_classification(\n",
    "#     n_samples=N_SAMPLES, n_features=2, n_redundant=0, n_informative=2,\n",
    "#     random_state=1, n_clusters_per_class=1)\n",
    "\n",
    "# X_train, X_test, y_train, y_test = train_test_split(\n",
    "#     X, y, test_size=.4, random_state=0)\n",
    "\n",
    "# prepare plots\n",
    "fig, [ax_roc, ax_det] = plt.subplots(1, 2, figsize=(11, 5))\n",
    "\n",
    "for name, clf in classifiers.items():\n",
    "    clf.fit(x_train, y_train)\n",
    "\n",
    "    plot_roc_curve(clf, x_test, y_test, ax=ax_roc, name=name)\n",
    "    plot_det_curve(clf, x_test, y_test, ax=ax_det, name=name)\n",
    "\n",
    "ax_roc.set_title('Receiver Operating Characteristic (ROC) curves')\n",
    "ax_det.set_title('Detection Error Tradeoff (DET) curves')\n",
    "\n",
    "ax_roc.grid(linestyle='--')\n",
    "ax_det.grid(linestyle='--')\n",
    "\n",
    "plt.legend()\n",
    "plt.show()"
   ]
  },
  {
   "cell_type": "code",
   "execution_count": null,
   "metadata": {},
   "outputs": [],
   "source": [
    "from sklearn.metrics import confusion_matrix\n",
    "from sklearn.metrics import ConfusionMatrixDisplay\n",
    "\n",
    "for name, clf in classifiers.items():\n",
    "    y_pred = clf.predict(x_test)\n",
    "    cm = confusion_matrix(y_test, y_pred)\n",
    "    plt.figure(figsize=(8, 6))\n",
    "    plt.title(f'{name} Confusion Matrix', size=16)\n",
    "    sns.heatmap(cm, annot=True, cmap='Blues');\n",
    "\n",
    "plt.show()"
   ]
  },
  {
   "cell_type": "code",
   "execution_count": null,
   "metadata": {},
   "outputs": [],
   "source": []
  }
 ],
 "metadata": {
  "kernelspec": {
   "display_name": "Python 3",
   "language": "python",
   "name": "python3"
  },
  "language_info": {
   "codemirror_mode": {
    "name": "ipython",
    "version": 3
   },
   "file_extension": ".py",
   "mimetype": "text/x-python",
   "name": "python",
   "nbconvert_exporter": "python",
   "pygments_lexer": "ipython3",
   "version": "3.7.2"
  }
 },
 "nbformat": 4,
 "nbformat_minor": 4
}
