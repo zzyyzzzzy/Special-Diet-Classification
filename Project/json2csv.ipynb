{
 "cells": [
  {
   "cell_type": "code",
   "execution_count": 9,
   "metadata": {},
   "outputs": [],
   "source": [
    "import os\n",
    "\n",
    "# Define data folder\n",
    "data_folder = \"../dataset\"\n",
    "source_filepath = os.path.join(data_folder, \"recipes.json\")\n",
    "destination_filepath = os.path.join(data_folder,\"recipes.csv\")"
   ]
  },
  {
   "cell_type": "code",
   "execution_count": 10,
   "metadata": {},
   "outputs": [],
   "source": [
    "import json\n",
    "import csv\n",
    "\n",
    "# Read JSON\n",
    "with open(source_filepath) as file:\n",
    "    data = json.load(file)\n",
    "\n",
    "# Write CSV\n",
    "with open(destination_filepath, \"w\") as file:\n",
    "    csv_file = csv.writer(file)\n",
    "    csv_file.writerow(['recipe_id', 'recipe_name', 'calories', 'carbohydrate', 'fat', 'protein'])\n",
    "    for item in data:\n",
    "        recipe_nutrition = list(item['recipe_nutrition'].values())\n",
    "        csv_file.writerow([item['recipe_id'], item['recipe_name']] + recipe_nutrition)"
   ]
  },
  {
   "cell_type": "code",
   "execution_count": null,
   "metadata": {},
   "outputs": [],
   "source": []
  }
 ],
 "metadata": {
  "kernelspec": {
   "display_name": "Python 3",
   "language": "python",
   "name": "python3"
  },
  "language_info": {
   "codemirror_mode": {
    "name": "ipython",
    "version": 3
   },
   "file_extension": ".py",
   "mimetype": "text/x-python",
   "name": "python",
   "nbconvert_exporter": "python",
   "pygments_lexer": "ipython3",
   "version": "3.7.2"
  }
 },
 "nbformat": 4,
 "nbformat_minor": 4
}
